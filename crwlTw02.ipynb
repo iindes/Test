{
 "cells": [
  {
   "cell_type": "markdown",
   "id": "03ee08da",
   "metadata": {},
   "source": [
    "# Crawling Tweet for Topic"
   ]
  },
  {
   "cell_type": "markdown",
   "id": "d87a60ef",
   "metadata": {},
   "source": [
    "## Import Library"
   ]
  },
  {
   "cell_type": "code",
   "execution_count": 1,
   "id": "968adbe7",
   "metadata": {},
   "outputs": [],
   "source": [
    "# -*- coding: utf-8 -*-\n",
    "\n",
    "%matplotlib inline\n",
    "\n",
    "import pandas as pd\n",
    "import numpy as np\n",
    "import matplotlib.pyplot as plt\n",
    "\n",
    "import warnings\n",
    "warnings.filterwarnings(\"ignore\")"
   ]
  },
  {
   "cell_type": "code",
   "execution_count": 2,
   "id": "78ad2861",
   "metadata": {},
   "outputs": [],
   "source": [
    "# import library: time\n",
    "import time\n",
    "now = time.localtime() # used to add timestamp to filename"
   ]
  },
  {
   "cell_type": "markdown",
   "id": "3aa3668a",
   "metadata": {},
   "source": [
    "## <Step1. API 호출> : 트위터 API로 데이터 가져오기"
   ]
  },
  {
   "cell_type": "markdown",
   "id": "af9ea9aa",
   "metadata": {},
   "source": [
    "### [API 데이터로 데이터프레임 생성하기]"
   ]
  },
  {
   "cell_type": "markdown",
   "id": "66fea150",
   "metadata": {},
   "source": [
    "### 트위터 API 가져오기"
   ]
  },
  {
   "cell_type": "code",
   "execution_count": 3,
   "id": "e7a87d93",
   "metadata": {},
   "outputs": [],
   "source": [
    "#!pip install tweepy==3.10.0\n"
   ]
  },
  {
   "cell_type": "code",
   "execution_count": 4,
   "id": "e3dd1d5b",
   "metadata": {},
   "outputs": [
    {
     "data": {
      "text/plain": [
       "'3.10.0'"
      ]
     },
     "execution_count": 4,
     "metadata": {},
     "output_type": "execute_result"
    }
   ],
   "source": [
    "# 패키지 설치 확인\n",
    "import tweepy #ModuleNotFoundError: No module named 'tweepy'\n",
    "tweepy.__version__"
   ]
  },
  {
   "cell_type": "code",
   "execution_count": 5,
   "id": "48732f30",
   "metadata": {},
   "outputs": [],
   "source": [
    "# 발급 완료된 키를 {your_key} 대신 입력합니다.\n",
    "CONSUMER_KEY = \"GyhYUuPz1n7G8xJinc6oS669Q\"\n",
    "CONSUMER_SECRET = \"zYUmczSjM9r4yjUT6TKOFVNoAvjn84uZ8p2FtJGPYeTpAL83RB\"\n",
    "ACCESS_TOKEN_KEY = \"1449194998998593543-f5yvwnxfwwAQj4YN35Ubgr1nJnUpk2\"\n",
    "ACCESS_TOKEN_SECRET = \"iMbxkqQfnBkbrzKbPVbtT3peJpsWmxIS2UBnF3LbRKgSM\""
   ]
  },
  {
   "cell_type": "code",
   "execution_count": 6,
   "id": "c45d05af",
   "metadata": {},
   "outputs": [],
   "source": [
    "# 개인정보 인증을 요청하는 Handler입니다.\n",
    "auth = tweepy.OAuthHandler(CONSUMER_KEY, CONSUMER_SECRET)"
   ]
  },
  {
   "cell_type": "code",
   "execution_count": 7,
   "id": "ef3d4720",
   "metadata": {},
   "outputs": [],
   "source": [
    "# 인증 요청을 수행합니다.\n",
    "auth.set_access_token(ACCESS_TOKEN_KEY, ACCESS_TOKEN_SECRET)"
   ]
  },
  {
   "cell_type": "code",
   "execution_count": 8,
   "id": "66f9e55f",
   "metadata": {},
   "outputs": [],
   "source": [
    "# twitter API를 사용하기 위한 준비입니다.\n",
    "api = tweepy.API(auth)"
   ]
  },
  {
   "cell_type": "markdown",
   "id": "039a6975",
   "metadata": {},
   "source": [
    "### 키워드 검색"
   ]
  },
  {
   "cell_type": "code",
   "execution_count": 9,
   "id": "012597f8",
   "metadata": {},
   "outputs": [
    {
     "name": "stdout",
     "output_type": "stream",
     "text": [
      "RT @MCU_0range_: 토르 라그나로크에서 로키랑 발키리 전투씬이 기억에 남은 이유. 로키가 정신 지배 능력 사용할 수 있었다는 것 때문에 기억에 남았다. 뭐, 그러고 발키리한테 기절 당했지만 uu..\n",
      "[{'screen_name': 'MCU_0range_', 'name': '오렌쥐🍊', 'id': 1443965247031705600, 'id_str': '1443965247031705600', 'indices': [3, 15]}]\n",
      "[]\n",
      "2021-10-24 04:36:09\n",
      "토르 라그나로크에서 로키랑 발키리 전투씬이 기억에 남은 이유. 로키가 정신 지배 능력 사용할 수 있었다는 것 때문에 기억에 남았다. 뭐, 그러고 발키리한테 기절 당했지만 uu..\n",
      "[]\n",
      "[]\n",
      "2021-10-24 04:30:34\n",
      "왜.네가 이것을...라그나로크를 가지고 있는거지?/자동\n",
      "[]\n",
      "[]\n",
      "2021-10-24 03:54:02\n",
      "라그나로크라고?어떻게..../자동\n",
      "[]\n",
      "[]\n",
      "2021-10-24 03:23:59\n",
      "유독 라그나로크 비하인드가 많은 거 같은데... 가장 안 풀리긴 했지..... 저때 망토 찢어져서 반망토로 다니는게 너무 좋았던.... https://t.co/PmDVWNJDnx\n",
      "[]\n",
      "[]\n",
      "2021-10-24 02:40:01\n",
      "그럼, \"라그나로크\"를 일으키는 이 힘으로——\n",
      "네가 비웃었던 파멸자의 힘으로 이 세상의 약자들을 지켜내겠다——\n",
      "모두를 제물로 바치는 의식이 진정 신의 뜻이라면——\n",
      "그럼, 나는 이 곳에서—— 신에게 선전포고를 하겠다.\n",
      "[]\n",
      "[]\n",
      "2021-10-24 01:44:24\n",
      "로드의 순수한 혈통이 아니라면 라그나로크를 사용하지 못하는 것은 당연하겠지/자동\n",
      "[]\n",
      "[]\n",
      "2021-10-23 23:23:48\n",
      "우린 라그나로크의 굴레에서 벗어났지. 아스가르드인들은 처음으로 자신들이 운명의 굴레에서 벗어나서 자유가 됐다고 믿고있고.\n",
      "[]\n",
      "[]\n",
      "2021-10-23 22:16:51\n",
      ".... ..... 어찌 됐든... 나는 이제 탈락자고, 당신은 살아남아있으니까... ... 살아남기를 바랄게. 벌써 여기까지 와버렸잖아. 라그나로크 게임의 본분을 다 하라구. 다들 자기 몸은 지킬 줄 알걸.\n",
      "[]\n",
      "[]\n",
      "2021-10-23 20:49:08\n",
      "그래... 도적인데 불사신이라 탱커여서 가장 많이 뚫렸었지... 왜 라그나로크에서도 싹 벗긴거야ㅋㅋㅋㄱㅋ 우리 반... 옷 좀 여미고다니렴... 가을이라 춥다... https://t.co/h99F5x6b3D\n",
      "[]\n",
      "[]\n",
      "2021-10-23 18:51:40\n",
      "유명인이라서 좋겠다~!!그런 사람이 누추한 라그나로크까지 친히 오셨대?\n",
      "[]\n",
      "[]\n",
      "2021-10-23 16:48:49\n",
      "이제 한동안 이런 유흥거리 즐길 겨를도 없을게다. 다들 라그나로크를 준비해라.\n",
      "[]\n",
      "[]\n",
      "2021-10-23 14:40:37\n",
      "@async3619 사용표시용\n",
      "라그나로크 펜효과 쓰고나면 자기한테 1000댐에 이번턴 전투대미지 절감되서 표시햇어요\n",
      "[{'screen_name': 'async3619', 'name': '소피아', 'id': 1390297091054788611, 'id_str': '1390297091054788611', 'indices': [0, 10]}]\n",
      "[]\n",
      "2021-10-23 13:53:38\n",
      "RT @atomicBTC: [투자에 관한 story]\n",
      "\n",
      "요새 투자자/비투자자간의 AT필드같은 것이 형성되어 있어 마침 해당글을 올립니다.\n",
      "\n",
      "먼저 저의 간략한 소개로 시작합니다.\n",
      "\n",
      "저는 온라인게임(라그나로크)라는 게임을 중/고/대학교때까지 지속하였습니…\n",
      "[{'screen_name': 'atomicBTC', 'name': 'ATOMIC⚡️₿ITCOIN', 'id': 114938640, 'id_str': '114938640', 'indices': [3, 13]}]\n",
      "[]\n",
      "2021-10-23 13:02:11\n"
     ]
    }
   ],
   "source": [
    "# twitter API를 사용하여 ‘손흥민’이 포함된 트윗들을 크롤링한 뒤, entities 에서 ‘user_mentions’, ‘hashtags’를 추출합니다.\n",
    "keyword = \"라그나로크\"\n",
    "tweets = api.search(keyword) #Old version: replaced to search_tweets()\n",
    "# tweets = api.search_tweets(keyword) #For ver 4.0\n",
    "for tweet in tweets:\n",
    "    print(tweet.text)\n",
    "    print(tweet.entities['user_mentions'])\n",
    "    print(tweet.entities['hashtags'])\n",
    "    print(tweet.created_at)"
   ]
  },
  {
   "cell_type": "markdown",
   "id": "f64ea737",
   "metadata": {},
   "source": [
    "### 데이터프레임 형태로 수집"
   ]
  },
  {
   "cell_type": "code",
   "execution_count": 10,
   "id": "37e16524",
   "metadata": {},
   "outputs": [],
   "source": [
    "# 크롤링된 데이터를 저장할 데이터 프레임입니다.\n",
    "columns = ['created', 'tweet_text']\n",
    "df = pd.DataFrame(columns=columns)"
   ]
  },
  {
   "cell_type": "code",
   "execution_count": 11,
   "id": "2b09beb2",
   "metadata": {},
   "outputs": [],
   "source": [
    "# 크롤링을 수행할 갯수를 입력하고, Cursor 객체를 사용하여 크롤링을 수행합니다.\n",
    "max_tweets = 1000\n",
    "searched_tweets = [status for status in tweepy.Cursor(api.search, q=keyword).items(max_tweets)]\n",
    "#searched_tweets = [status for status in tweepy.Cursor(api.search_tweets, q=keyword).items(max_tweets)]  #For ver 4.0"
   ]
  },
  {
   "cell_type": "code",
   "execution_count": 12,
   "id": "6925ce20",
   "metadata": {},
   "outputs": [],
   "source": [
    "# 키워드가 포함된 1000개의 트윗들에서, ‘text’, ‘created_at’ 정보를 데이터 프레임으로 저장합니다.\n",
    "for tweet in searched_tweets:\n",
    "    tweet_json = tweet._json\n",
    "    tweet_text = tweet_json['text']\n",
    "    created = tweet_json['created_at']\n",
    "    row = [created, tweet_text]\n",
    "    series = pd.Series(row, index=df.columns)\n",
    "    df = df.append(series, ignore_index=True)"
   ]
  },
  {
   "cell_type": "code",
   "execution_count": 13,
   "id": "f71a7d23",
   "metadata": {},
   "outputs": [],
   "source": [
    "# file name\n",
    "# file_name = 'tweet_temp'\n",
    "# rel_path =  output_path + file_name + '_' + str(now.tm_mon).zfill(2) + str(now.tm_mday).zfill(2) + str(now.tm_hour).zfill(2) + str(now.tm_min).zfill(2) + '.csv'\n",
    "\n",
    "df.to_csv(\"tweet_temp.csv\", index=False)"
   ]
  },
  {
   "cell_type": "markdown",
   "id": "189804e3",
   "metadata": {},
   "source": [
    "## <Step2. 추출> : 키워드 추출"
   ]
  },
  {
   "cell_type": "markdown",
   "id": "a2ddbc77",
   "metadata": {},
   "source": [
    "### [텍스트 데이터 전처리]"
   ]
  },
  {
   "cell_type": "code",
   "execution_count": 14,
   "id": "88994757",
   "metadata": {},
   "outputs": [
    {
     "data": {
      "text/html": [
       "<div>\n",
       "<style scoped>\n",
       "    .dataframe tbody tr th:only-of-type {\n",
       "        vertical-align: middle;\n",
       "    }\n",
       "\n",
       "    .dataframe tbody tr th {\n",
       "        vertical-align: top;\n",
       "    }\n",
       "\n",
       "    .dataframe thead th {\n",
       "        text-align: right;\n",
       "    }\n",
       "</style>\n",
       "<table border=\"1\" class=\"dataframe\">\n",
       "  <thead>\n",
       "    <tr style=\"text-align: right;\">\n",
       "      <th></th>\n",
       "      <th>created</th>\n",
       "      <th>tweet_text</th>\n",
       "    </tr>\n",
       "  </thead>\n",
       "  <tbody>\n",
       "    <tr>\n",
       "      <th>0</th>\n",
       "      <td>Sun Oct 24 04:36:09 +0000 2021</td>\n",
       "      <td>RT @MCU_0range_: 토르 라그나로크에서 로키랑 발키리 전투씬이 기억에 남...</td>\n",
       "    </tr>\n",
       "    <tr>\n",
       "      <th>1</th>\n",
       "      <td>Sun Oct 24 04:30:34 +0000 2021</td>\n",
       "      <td>토르 라그나로크에서 로키랑 발키리 전투씬이 기억에 남은 이유. 로키가 정신 지배 능...</td>\n",
       "    </tr>\n",
       "    <tr>\n",
       "      <th>2</th>\n",
       "      <td>Sun Oct 24 03:54:02 +0000 2021</td>\n",
       "      <td>왜.네가 이것을...라그나로크를 가지고 있는거지?/자동</td>\n",
       "    </tr>\n",
       "    <tr>\n",
       "      <th>3</th>\n",
       "      <td>Sun Oct 24 03:23:59 +0000 2021</td>\n",
       "      <td>라그나로크라고?어떻게..../자동</td>\n",
       "    </tr>\n",
       "    <tr>\n",
       "      <th>4</th>\n",
       "      <td>Sun Oct 24 02:40:01 +0000 2021</td>\n",
       "      <td>유독 라그나로크 비하인드가 많은 거 같은데... 가장 안 풀리긴 했지..... 저때...</td>\n",
       "    </tr>\n",
       "  </tbody>\n",
       "</table>\n",
       "</div>"
      ],
      "text/plain": [
       "                          created  \\\n",
       "0  Sun Oct 24 04:36:09 +0000 2021   \n",
       "1  Sun Oct 24 04:30:34 +0000 2021   \n",
       "2  Sun Oct 24 03:54:02 +0000 2021   \n",
       "3  Sun Oct 24 03:23:59 +0000 2021   \n",
       "4  Sun Oct 24 02:40:01 +0000 2021   \n",
       "\n",
       "                                          tweet_text  \n",
       "0  RT @MCU_0range_: 토르 라그나로크에서 로키랑 발키리 전투씬이 기억에 남...  \n",
       "1  토르 라그나로크에서 로키랑 발키리 전투씬이 기억에 남은 이유. 로키가 정신 지배 능...  \n",
       "2                     왜.네가 이것을...라그나로크를 가지고 있는거지?/자동  \n",
       "3                                 라그나로크라고?어떻게..../자동  \n",
       "4  유독 라그나로크 비하인드가 많은 거 같은데... 가장 안 풀리긴 했지..... 저때...  "
      ]
     },
     "execution_count": 14,
     "metadata": {},
     "output_type": "execute_result"
    }
   ],
   "source": [
    "df = pd.read_csv(\"tweet_temp.csv\")\n",
    "df.head()"
   ]
  },
  {
   "cell_type": "code",
   "execution_count": 15,
   "id": "0eab28d6",
   "metadata": {},
   "outputs": [],
   "source": [
    "# import library\n",
    "import re # re — Regular expression operations\n",
    "\n",
    "# 텍스트 정제 함수 : 한글 이외의 문자는 전부 제거합니다.\n",
    "def text_cleaning(text):\n",
    "    hangul = re.compile('[^ ㄱ-ㅣ가-힣]+') # 한글의 정규표현식을 나타냅니다.\n",
    "    result = hangul.sub('', text)\n",
    "    return result"
   ]
  },
  {
   "cell_type": "code",
   "execution_count": 16,
   "id": "e7d1c572",
   "metadata": {},
   "outputs": [
    {
     "data": {
      "text/html": [
       "<div>\n",
       "<style scoped>\n",
       "    .dataframe tbody tr th:only-of-type {\n",
       "        vertical-align: middle;\n",
       "    }\n",
       "\n",
       "    .dataframe tbody tr th {\n",
       "        vertical-align: top;\n",
       "    }\n",
       "\n",
       "    .dataframe thead th {\n",
       "        text-align: right;\n",
       "    }\n",
       "</style>\n",
       "<table border=\"1\" class=\"dataframe\">\n",
       "  <thead>\n",
       "    <tr style=\"text-align: right;\">\n",
       "      <th></th>\n",
       "      <th>created</th>\n",
       "      <th>tweet_text</th>\n",
       "      <th>ko_text</th>\n",
       "    </tr>\n",
       "  </thead>\n",
       "  <tbody>\n",
       "    <tr>\n",
       "      <th>0</th>\n",
       "      <td>Sun Oct 24 04:36:09 +0000 2021</td>\n",
       "      <td>RT @MCU_0range_: 토르 라그나로크에서 로키랑 발키리 전투씬이 기억에 남...</td>\n",
       "      <td>토르 라그나로크에서 로키랑 발키리 전투씬이 기억에 남은 이유 로키가 정신 지배 ...</td>\n",
       "    </tr>\n",
       "    <tr>\n",
       "      <th>1</th>\n",
       "      <td>Sun Oct 24 04:30:34 +0000 2021</td>\n",
       "      <td>토르 라그나로크에서 로키랑 발키리 전투씬이 기억에 남은 이유. 로키가 정신 지배 능...</td>\n",
       "      <td>토르 라그나로크에서 로키랑 발키리 전투씬이 기억에 남은 이유 로키가 정신 지배 능력...</td>\n",
       "    </tr>\n",
       "    <tr>\n",
       "      <th>2</th>\n",
       "      <td>Sun Oct 24 03:54:02 +0000 2021</td>\n",
       "      <td>왜.네가 이것을...라그나로크를 가지고 있는거지?/자동</td>\n",
       "      <td>왜네가 이것을라그나로크를 가지고 있는거지자동</td>\n",
       "    </tr>\n",
       "    <tr>\n",
       "      <th>3</th>\n",
       "      <td>Sun Oct 24 03:23:59 +0000 2021</td>\n",
       "      <td>라그나로크라고?어떻게..../자동</td>\n",
       "      <td>라그나로크라고어떻게자동</td>\n",
       "    </tr>\n",
       "    <tr>\n",
       "      <th>4</th>\n",
       "      <td>Sun Oct 24 02:40:01 +0000 2021</td>\n",
       "      <td>유독 라그나로크 비하인드가 많은 거 같은데... 가장 안 풀리긴 했지..... 저때...</td>\n",
       "      <td>유독 라그나로크 비하인드가 많은 거 같은데 가장 안 풀리긴 했지 저때 망토 찢어져서...</td>\n",
       "    </tr>\n",
       "  </tbody>\n",
       "</table>\n",
       "</div>"
      ],
      "text/plain": [
       "                          created  \\\n",
       "0  Sun Oct 24 04:36:09 +0000 2021   \n",
       "1  Sun Oct 24 04:30:34 +0000 2021   \n",
       "2  Sun Oct 24 03:54:02 +0000 2021   \n",
       "3  Sun Oct 24 03:23:59 +0000 2021   \n",
       "4  Sun Oct 24 02:40:01 +0000 2021   \n",
       "\n",
       "                                          tweet_text  \\\n",
       "0  RT @MCU_0range_: 토르 라그나로크에서 로키랑 발키리 전투씬이 기억에 남...   \n",
       "1  토르 라그나로크에서 로키랑 발키리 전투씬이 기억에 남은 이유. 로키가 정신 지배 능...   \n",
       "2                     왜.네가 이것을...라그나로크를 가지고 있는거지?/자동   \n",
       "3                                 라그나로크라고?어떻게..../자동   \n",
       "4  유독 라그나로크 비하인드가 많은 거 같은데... 가장 안 풀리긴 했지..... 저때...   \n",
       "\n",
       "                                             ko_text  \n",
       "0    토르 라그나로크에서 로키랑 발키리 전투씬이 기억에 남은 이유 로키가 정신 지배 ...  \n",
       "1  토르 라그나로크에서 로키랑 발키리 전투씬이 기억에 남은 이유 로키가 정신 지배 능력...  \n",
       "2                           왜네가 이것을라그나로크를 가지고 있는거지자동  \n",
       "3                                       라그나로크라고어떻게자동  \n",
       "4  유독 라그나로크 비하인드가 많은 거 같은데 가장 안 풀리긴 했지 저때 망토 찢어져서...  "
      ]
     },
     "execution_count": 16,
     "metadata": {},
     "output_type": "execute_result"
    }
   ],
   "source": [
    "# ‘tweet_text’ 피처에 이를 적용합니다.\n",
    "df['ko_text'] = df['tweet_text'].apply(lambda x: text_cleaning(x))\n",
    "df.head()"
   ]
  },
  {
   "cell_type": "markdown",
   "id": "8a59c9cc",
   "metadata": {},
   "source": [
    "### [konlpy를 이용한 키워드 추출]"
   ]
  },
  {
   "cell_type": "code",
   "execution_count": 17,
   "id": "01985158",
   "metadata": {},
   "outputs": [],
   "source": [
    "# JPype1\n",
    "#!pip install JPype1 #Successfully installed JPype1-1.3.0"
   ]
  },
  {
   "cell_type": "code",
   "execution_count": 18,
   "id": "fcbe4a7f",
   "metadata": {},
   "outputs": [],
   "source": [
    "# !pip install konply\n",
    "\n",
    "# AttributeError: module 'tweepy' has no attribute 'StreamListener'\n",
    "# 2021년 10월 6일 기준 진행 시 tweepy 버전 이슈 문제가 존재합니다.\n",
    "# https://github.com/konlpy/konlpy/issues/371"
   ]
  },
  {
   "cell_type": "code",
   "execution_count": 19,
   "id": "3a2428e0",
   "metadata": {},
   "outputs": [
    {
     "data": {
      "text/plain": [
       "'3.10.0'"
      ]
     },
     "execution_count": 19,
     "metadata": {},
     "output_type": "execute_result"
    }
   ],
   "source": [
    "tweepy.__version__"
   ]
  },
  {
   "cell_type": "code",
   "execution_count": 20,
   "id": "eb8009c5",
   "metadata": {},
   "outputs": [],
   "source": [
    "# import library\n",
    "from konlpy.tag import Okt\n",
    "from collections import Counter\n",
    "\n",
    "\n",
    "# 한국어 약식 불용어사전 예시 파일입니다. 출처 - (https://www.ranks.nl/stopwords/korean)\n",
    "korean_stopwords_path = \"../data/korean_stopwords.txt\"\n",
    "\n",
    "with open(korean_stopwords_path, encoding='utf8') as f:\n",
    "    stopwords = f.readlines()\n",
    "stopwords = [x.strip() for x in stopwords]\n"
   ]
  },
  {
   "cell_type": "code",
   "execution_count": 21,
   "id": "fb80acf6",
   "metadata": {},
   "outputs": [],
   "source": [
    "def get_nouns(x):\n",
    "    nouns_tagger = Okt()\n",
    "    nouns = nouns_tagger.nouns(x)\n",
    "    \n",
    "    # 한글자 키워드를 제거합니다.\n",
    "    nouns = [noun for noun in nouns if len(noun) > 1]\n",
    "    \n",
    "    # 불용어를 제거합니다.\n",
    "    nouns = [noun for noun in nouns if noun not in stopwords]\n",
    "    \n",
    "    return nouns"
   ]
  },
  {
   "cell_type": "code",
   "execution_count": 22,
   "id": "76b53aab",
   "metadata": {},
   "outputs": [
    {
     "ename": "JVMNotFoundException",
     "evalue": "No JVM shared library file (jvm.dll) found. Try setting up the JAVA_HOME environment variable properly.",
     "output_type": "error",
     "traceback": [
      "\u001b[1;31m---------------------------------------------------------------------------\u001b[0m",
      "\u001b[1;31mJVMNotFoundException\u001b[0m                      Traceback (most recent call last)",
      "\u001b[1;32m<ipython-input-22-f12b51c6c844>\u001b[0m in \u001b[0;36m<module>\u001b[1;34m\u001b[0m\n\u001b[0;32m      1\u001b[0m \u001b[1;31m# ‘ko_text’ 피처에 이를 적용합니다.\u001b[0m\u001b[1;33m\u001b[0m\u001b[1;33m\u001b[0m\u001b[1;33m\u001b[0m\u001b[0m\n\u001b[1;32m----> 2\u001b[1;33m \u001b[0mdf\u001b[0m\u001b[1;33m[\u001b[0m\u001b[1;34m'nouns'\u001b[0m\u001b[1;33m]\u001b[0m \u001b[1;33m=\u001b[0m \u001b[0mdf\u001b[0m\u001b[1;33m[\u001b[0m\u001b[1;34m'ko_text'\u001b[0m\u001b[1;33m]\u001b[0m\u001b[1;33m.\u001b[0m\u001b[0mapply\u001b[0m\u001b[1;33m(\u001b[0m\u001b[1;32mlambda\u001b[0m \u001b[0mx\u001b[0m\u001b[1;33m:\u001b[0m \u001b[0mget_nouns\u001b[0m\u001b[1;33m(\u001b[0m\u001b[0mx\u001b[0m\u001b[1;33m)\u001b[0m\u001b[1;33m)\u001b[0m\u001b[1;33m\u001b[0m\u001b[1;33m\u001b[0m\u001b[0m\n\u001b[0m\u001b[0;32m      3\u001b[0m \u001b[0mprint\u001b[0m\u001b[1;33m(\u001b[0m\u001b[0mdf\u001b[0m\u001b[1;33m.\u001b[0m\u001b[0mshape\u001b[0m\u001b[1;33m)\u001b[0m\u001b[1;33m\u001b[0m\u001b[1;33m\u001b[0m\u001b[0m\n\u001b[0;32m      4\u001b[0m \u001b[0mdf\u001b[0m\u001b[1;33m.\u001b[0m\u001b[0mhead\u001b[0m\u001b[1;33m(\u001b[0m\u001b[1;33m)\u001b[0m\u001b[1;33m\u001b[0m\u001b[1;33m\u001b[0m\u001b[0m\n",
      "\u001b[1;32mC:\\ProgramData\\Anaconda3\\lib\\site-packages\\pandas\\core\\series.py\u001b[0m in \u001b[0;36mapply\u001b[1;34m(self, func, convert_dtype, args, **kwargs)\u001b[0m\n\u001b[0;32m   4355\u001b[0m         \u001b[0mdtype\u001b[0m\u001b[1;33m:\u001b[0m \u001b[0mfloat64\u001b[0m\u001b[1;33m\u001b[0m\u001b[1;33m\u001b[0m\u001b[0m\n\u001b[0;32m   4356\u001b[0m         \"\"\"\n\u001b[1;32m-> 4357\u001b[1;33m         \u001b[1;32mreturn\u001b[0m \u001b[0mSeriesApply\u001b[0m\u001b[1;33m(\u001b[0m\u001b[0mself\u001b[0m\u001b[1;33m,\u001b[0m \u001b[0mfunc\u001b[0m\u001b[1;33m,\u001b[0m \u001b[0mconvert_dtype\u001b[0m\u001b[1;33m,\u001b[0m \u001b[0margs\u001b[0m\u001b[1;33m,\u001b[0m \u001b[0mkwargs\u001b[0m\u001b[1;33m)\u001b[0m\u001b[1;33m.\u001b[0m\u001b[0mapply\u001b[0m\u001b[1;33m(\u001b[0m\u001b[1;33m)\u001b[0m\u001b[1;33m\u001b[0m\u001b[1;33m\u001b[0m\u001b[0m\n\u001b[0m\u001b[0;32m   4358\u001b[0m \u001b[1;33m\u001b[0m\u001b[0m\n\u001b[0;32m   4359\u001b[0m     def _reduce(\n",
      "\u001b[1;32mC:\\ProgramData\\Anaconda3\\lib\\site-packages\\pandas\\core\\apply.py\u001b[0m in \u001b[0;36mapply\u001b[1;34m(self)\u001b[0m\n\u001b[0;32m   1041\u001b[0m             \u001b[1;32mreturn\u001b[0m \u001b[0mself\u001b[0m\u001b[1;33m.\u001b[0m\u001b[0mapply_str\u001b[0m\u001b[1;33m(\u001b[0m\u001b[1;33m)\u001b[0m\u001b[1;33m\u001b[0m\u001b[1;33m\u001b[0m\u001b[0m\n\u001b[0;32m   1042\u001b[0m \u001b[1;33m\u001b[0m\u001b[0m\n\u001b[1;32m-> 1043\u001b[1;33m         \u001b[1;32mreturn\u001b[0m \u001b[0mself\u001b[0m\u001b[1;33m.\u001b[0m\u001b[0mapply_standard\u001b[0m\u001b[1;33m(\u001b[0m\u001b[1;33m)\u001b[0m\u001b[1;33m\u001b[0m\u001b[1;33m\u001b[0m\u001b[0m\n\u001b[0m\u001b[0;32m   1044\u001b[0m \u001b[1;33m\u001b[0m\u001b[0m\n\u001b[0;32m   1045\u001b[0m     \u001b[1;32mdef\u001b[0m \u001b[0magg\u001b[0m\u001b[1;33m(\u001b[0m\u001b[0mself\u001b[0m\u001b[1;33m)\u001b[0m\u001b[1;33m:\u001b[0m\u001b[1;33m\u001b[0m\u001b[1;33m\u001b[0m\u001b[0m\n",
      "\u001b[1;32mC:\\ProgramData\\Anaconda3\\lib\\site-packages\\pandas\\core\\apply.py\u001b[0m in \u001b[0;36mapply_standard\u001b[1;34m(self)\u001b[0m\n\u001b[0;32m   1100\u001b[0m                     \u001b[0mvalues\u001b[0m\u001b[1;33m,\u001b[0m\u001b[1;33m\u001b[0m\u001b[1;33m\u001b[0m\u001b[0m\n\u001b[0;32m   1101\u001b[0m                     \u001b[0mf\u001b[0m\u001b[1;33m,\u001b[0m  \u001b[1;31m# type: ignore[arg-type]\u001b[0m\u001b[1;33m\u001b[0m\u001b[1;33m\u001b[0m\u001b[0m\n\u001b[1;32m-> 1102\u001b[1;33m                     \u001b[0mconvert\u001b[0m\u001b[1;33m=\u001b[0m\u001b[0mself\u001b[0m\u001b[1;33m.\u001b[0m\u001b[0mconvert_dtype\u001b[0m\u001b[1;33m,\u001b[0m\u001b[1;33m\u001b[0m\u001b[1;33m\u001b[0m\u001b[0m\n\u001b[0m\u001b[0;32m   1103\u001b[0m                 )\n\u001b[0;32m   1104\u001b[0m \u001b[1;33m\u001b[0m\u001b[0m\n",
      "\u001b[1;32mC:\\ProgramData\\Anaconda3\\lib\\site-packages\\pandas\\_libs\\lib.pyx\u001b[0m in \u001b[0;36mpandas._libs.lib.map_infer\u001b[1;34m()\u001b[0m\n",
      "\u001b[1;32m<ipython-input-22-f12b51c6c844>\u001b[0m in \u001b[0;36m<lambda>\u001b[1;34m(x)\u001b[0m\n\u001b[0;32m      1\u001b[0m \u001b[1;31m# ‘ko_text’ 피처에 이를 적용합니다.\u001b[0m\u001b[1;33m\u001b[0m\u001b[1;33m\u001b[0m\u001b[1;33m\u001b[0m\u001b[0m\n\u001b[1;32m----> 2\u001b[1;33m \u001b[0mdf\u001b[0m\u001b[1;33m[\u001b[0m\u001b[1;34m'nouns'\u001b[0m\u001b[1;33m]\u001b[0m \u001b[1;33m=\u001b[0m \u001b[0mdf\u001b[0m\u001b[1;33m[\u001b[0m\u001b[1;34m'ko_text'\u001b[0m\u001b[1;33m]\u001b[0m\u001b[1;33m.\u001b[0m\u001b[0mapply\u001b[0m\u001b[1;33m(\u001b[0m\u001b[1;32mlambda\u001b[0m \u001b[0mx\u001b[0m\u001b[1;33m:\u001b[0m \u001b[0mget_nouns\u001b[0m\u001b[1;33m(\u001b[0m\u001b[0mx\u001b[0m\u001b[1;33m)\u001b[0m\u001b[1;33m)\u001b[0m\u001b[1;33m\u001b[0m\u001b[1;33m\u001b[0m\u001b[0m\n\u001b[0m\u001b[0;32m      3\u001b[0m \u001b[0mprint\u001b[0m\u001b[1;33m(\u001b[0m\u001b[0mdf\u001b[0m\u001b[1;33m.\u001b[0m\u001b[0mshape\u001b[0m\u001b[1;33m)\u001b[0m\u001b[1;33m\u001b[0m\u001b[1;33m\u001b[0m\u001b[0m\n\u001b[0;32m      4\u001b[0m \u001b[0mdf\u001b[0m\u001b[1;33m.\u001b[0m\u001b[0mhead\u001b[0m\u001b[1;33m(\u001b[0m\u001b[1;33m)\u001b[0m\u001b[1;33m\u001b[0m\u001b[1;33m\u001b[0m\u001b[0m\n",
      "\u001b[1;32m<ipython-input-21-dcd19ce1b362>\u001b[0m in \u001b[0;36mget_nouns\u001b[1;34m(x)\u001b[0m\n\u001b[0;32m      1\u001b[0m \u001b[1;32mdef\u001b[0m \u001b[0mget_nouns\u001b[0m\u001b[1;33m(\u001b[0m\u001b[0mx\u001b[0m\u001b[1;33m)\u001b[0m\u001b[1;33m:\u001b[0m\u001b[1;33m\u001b[0m\u001b[1;33m\u001b[0m\u001b[0m\n\u001b[1;32m----> 2\u001b[1;33m     \u001b[0mnouns_tagger\u001b[0m \u001b[1;33m=\u001b[0m \u001b[0mOkt\u001b[0m\u001b[1;33m(\u001b[0m\u001b[1;33m)\u001b[0m\u001b[1;33m\u001b[0m\u001b[1;33m\u001b[0m\u001b[0m\n\u001b[0m\u001b[0;32m      3\u001b[0m     \u001b[0mnouns\u001b[0m \u001b[1;33m=\u001b[0m \u001b[0mnouns_tagger\u001b[0m\u001b[1;33m.\u001b[0m\u001b[0mnouns\u001b[0m\u001b[1;33m(\u001b[0m\u001b[0mx\u001b[0m\u001b[1;33m)\u001b[0m\u001b[1;33m\u001b[0m\u001b[1;33m\u001b[0m\u001b[0m\n\u001b[0;32m      4\u001b[0m \u001b[1;33m\u001b[0m\u001b[0m\n\u001b[0;32m      5\u001b[0m     \u001b[1;31m# 한글자 키워드를 제거합니다.\u001b[0m\u001b[1;33m\u001b[0m\u001b[1;33m\u001b[0m\u001b[1;33m\u001b[0m\u001b[0m\n",
      "\u001b[1;32mC:\\ProgramData\\Anaconda3\\lib\\site-packages\\konlpy\\tag\\_okt.py\u001b[0m in \u001b[0;36m__init__\u001b[1;34m(self, jvmpath, max_heap_size)\u001b[0m\n\u001b[0;32m     89\u001b[0m     \u001b[1;32mdef\u001b[0m \u001b[0m__init__\u001b[0m\u001b[1;33m(\u001b[0m\u001b[0mself\u001b[0m\u001b[1;33m,\u001b[0m \u001b[0mjvmpath\u001b[0m\u001b[1;33m=\u001b[0m\u001b[1;32mNone\u001b[0m\u001b[1;33m,\u001b[0m \u001b[0mmax_heap_size\u001b[0m\u001b[1;33m=\u001b[0m\u001b[1;36m1024\u001b[0m\u001b[1;33m)\u001b[0m\u001b[1;33m:\u001b[0m\u001b[1;33m\u001b[0m\u001b[1;33m\u001b[0m\u001b[0m\n\u001b[0;32m     90\u001b[0m         \u001b[1;32mif\u001b[0m \u001b[1;32mnot\u001b[0m \u001b[0mjpype\u001b[0m\u001b[1;33m.\u001b[0m\u001b[0misJVMStarted\u001b[0m\u001b[1;33m(\u001b[0m\u001b[1;33m)\u001b[0m\u001b[1;33m:\u001b[0m\u001b[1;33m\u001b[0m\u001b[1;33m\u001b[0m\u001b[0m\n\u001b[1;32m---> 91\u001b[1;33m             \u001b[0mjvm\u001b[0m\u001b[1;33m.\u001b[0m\u001b[0minit_jvm\u001b[0m\u001b[1;33m(\u001b[0m\u001b[0mjvmpath\u001b[0m\u001b[1;33m,\u001b[0m \u001b[0mmax_heap_size\u001b[0m\u001b[1;33m)\u001b[0m\u001b[1;33m\u001b[0m\u001b[1;33m\u001b[0m\u001b[0m\n\u001b[0m\u001b[0;32m     92\u001b[0m \u001b[1;33m\u001b[0m\u001b[0m\n\u001b[0;32m     93\u001b[0m         \u001b[0moktJavaPackage\u001b[0m \u001b[1;33m=\u001b[0m \u001b[0mjpype\u001b[0m\u001b[1;33m.\u001b[0m\u001b[0mJPackage\u001b[0m\u001b[1;33m(\u001b[0m\u001b[1;34m'kr.lucypark.okt'\u001b[0m\u001b[1;33m)\u001b[0m\u001b[1;33m\u001b[0m\u001b[1;33m\u001b[0m\u001b[0m\n",
      "\u001b[1;32mC:\\ProgramData\\Anaconda3\\lib\\site-packages\\konlpy\\jvm.py\u001b[0m in \u001b[0;36minit_jvm\u001b[1;34m(jvmpath, max_heap_size)\u001b[0m\n\u001b[0;32m     53\u001b[0m     \u001b[0mclasspath\u001b[0m \u001b[1;33m=\u001b[0m \u001b[0mos\u001b[0m\u001b[1;33m.\u001b[0m\u001b[0mpathsep\u001b[0m\u001b[1;33m.\u001b[0m\u001b[0mjoin\u001b[0m\u001b[1;33m(\u001b[0m\u001b[0mf\u001b[0m\u001b[1;33m.\u001b[0m\u001b[0mformat\u001b[0m\u001b[1;33m(\u001b[0m\u001b[1;33m*\u001b[0m\u001b[0margs\u001b[0m\u001b[1;33m)\u001b[0m \u001b[1;32mfor\u001b[0m \u001b[0mf\u001b[0m \u001b[1;32min\u001b[0m \u001b[0mfolder_suffix\u001b[0m\u001b[1;33m)\u001b[0m\u001b[1;33m\u001b[0m\u001b[1;33m\u001b[0m\u001b[0m\n\u001b[0;32m     54\u001b[0m \u001b[1;33m\u001b[0m\u001b[0m\n\u001b[1;32m---> 55\u001b[1;33m     \u001b[0mjvmpath\u001b[0m \u001b[1;33m=\u001b[0m \u001b[0mjvmpath\u001b[0m \u001b[1;32mor\u001b[0m \u001b[0mjpype\u001b[0m\u001b[1;33m.\u001b[0m\u001b[0mgetDefaultJVMPath\u001b[0m\u001b[1;33m(\u001b[0m\u001b[1;33m)\u001b[0m\u001b[1;33m\u001b[0m\u001b[1;33m\u001b[0m\u001b[0m\n\u001b[0m\u001b[0;32m     56\u001b[0m \u001b[1;33m\u001b[0m\u001b[0m\n\u001b[0;32m     57\u001b[0m     \u001b[1;31m# NOTE: Temporary patch for Issue #76. Erase when possible.\u001b[0m\u001b[1;33m\u001b[0m\u001b[1;33m\u001b[0m\u001b[1;33m\u001b[0m\u001b[0m\n",
      "\u001b[1;32mC:\\ProgramData\\Anaconda3\\lib\\site-packages\\jpype\\_jvmfinder.py\u001b[0m in \u001b[0;36mgetDefaultJVMPath\u001b[1;34m()\u001b[0m\n\u001b[0;32m     72\u001b[0m     \u001b[1;32melse\u001b[0m\u001b[1;33m:\u001b[0m\u001b[1;33m\u001b[0m\u001b[1;33m\u001b[0m\u001b[0m\n\u001b[0;32m     73\u001b[0m         \u001b[0mfinder\u001b[0m \u001b[1;33m=\u001b[0m \u001b[0mLinuxJVMFinder\u001b[0m\u001b[1;33m(\u001b[0m\u001b[1;33m)\u001b[0m\u001b[1;33m\u001b[0m\u001b[1;33m\u001b[0m\u001b[0m\n\u001b[1;32m---> 74\u001b[1;33m     \u001b[1;32mreturn\u001b[0m \u001b[0mfinder\u001b[0m\u001b[1;33m.\u001b[0m\u001b[0mget_jvm_path\u001b[0m\u001b[1;33m(\u001b[0m\u001b[1;33m)\u001b[0m\u001b[1;33m\u001b[0m\u001b[1;33m\u001b[0m\u001b[0m\n\u001b[0m\u001b[0;32m     75\u001b[0m \u001b[1;33m\u001b[0m\u001b[0m\n\u001b[0;32m     76\u001b[0m \u001b[1;33m\u001b[0m\u001b[0m\n",
      "\u001b[1;32mC:\\ProgramData\\Anaconda3\\lib\\site-packages\\jpype\\_jvmfinder.py\u001b[0m in \u001b[0;36mget_jvm_path\u001b[1;34m(self)\u001b[0m\n\u001b[0;32m    213\u001b[0m                                    \u001b[1;34m\"found. Try setting up the JAVA_HOME \"\u001b[0m\u001b[1;33m\u001b[0m\u001b[1;33m\u001b[0m\u001b[0m\n\u001b[0;32m    214\u001b[0m                                    \u001b[1;34m\"environment variable properly.\"\u001b[0m\u001b[1;33m\u001b[0m\u001b[1;33m\u001b[0m\u001b[0m\n\u001b[1;32m--> 215\u001b[1;33m                                    .format(self._libfile))\n\u001b[0m\u001b[0;32m    216\u001b[0m \u001b[1;33m\u001b[0m\u001b[0m\n\u001b[0;32m    217\u001b[0m     \u001b[1;32mdef\u001b[0m \u001b[0m_get_from_java_home\u001b[0m\u001b[1;33m(\u001b[0m\u001b[0mself\u001b[0m\u001b[1;33m)\u001b[0m\u001b[1;33m:\u001b[0m\u001b[1;33m\u001b[0m\u001b[1;33m\u001b[0m\u001b[0m\n",
      "\u001b[1;31mJVMNotFoundException\u001b[0m: No JVM shared library file (jvm.dll) found. Try setting up the JAVA_HOME environment variable properly."
     ]
    }
   ],
   "source": [
    "# ‘ko_text’ 피처에 이를 적용합니다.\n",
    "df['nouns'] = df['ko_text'].apply(lambda x: get_nouns(x))\n",
    "print(df.shape)\n",
    "df.head()"
   ]
  },
  {
   "cell_type": "code",
   "execution_count": null,
   "id": "51704d6b",
   "metadata": {},
   "outputs": [],
   "source": []
  }
 ],
 "metadata": {
  "kernelspec": {
   "display_name": "Python 3",
   "language": "python",
   "name": "python3"
  },
  "language_info": {
   "codemirror_mode": {
    "name": "ipython",
    "version": 3
   },
   "file_extension": ".py",
   "mimetype": "text/x-python",
   "name": "python",
   "nbconvert_exporter": "python",
   "pygments_lexer": "ipython3",
   "version": "3.7.11"
  }
 },
 "nbformat": 4,
 "nbformat_minor": 5
}
