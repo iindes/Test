{
 "cells": [
  {
   "cell_type": "markdown",
   "metadata": {},
   "source": [
    "# Current Weather from openweathermap"
   ]
  },
  {
   "cell_type": "code",
   "execution_count": 65,
   "metadata": {},
   "outputs": [],
   "source": [
    "import tkinter as tk"
   ]
  },
  {
   "cell_type": "code",
   "execution_count": 66,
   "metadata": {},
   "outputs": [],
   "source": [
    "from tkinter.messagebox import *"
   ]
  },
  {
   "cell_type": "code",
   "execution_count": 67,
   "metadata": {},
   "outputs": [],
   "source": [
    "import requests, json, base64"
   ]
  },
  {
   "cell_type": "code",
   "execution_count": 68,
   "metadata": {},
   "outputs": [],
   "source": [
    "def getIcon(icon_id):\n",
    "    url = 'http://api.openweathermap.org/img/wn/{icon}.png'.format(icon=icon_id)\n",
    "    response = requests.get(url, stream=True)\n",
    "    return base64.encodebytes(response.raw.read())"
   ]
  },
  {
   "cell_type": "code",
   "execution_count": 69,
   "metadata": {},
   "outputs": [
    {
     "ename": "SyntaxError",
     "evalue": "positional argument follows keyword argument (<ipython-input-69-9bd05625eca2>, line 14)",
     "output_type": "error",
     "traceback": [
      "\u001b[1;36m  File \u001b[1;32m\"<ipython-input-69-9bd05625eca2>\"\u001b[1;36m, line \u001b[1;32m14\u001b[0m\n\u001b[1;33m    location = tk.Label(newScreen, text=f\"Location : {data1[0]}\", font('Times', 13))\u001b[0m\n\u001b[1;37m                                                                 ^\u001b[0m\n\u001b[1;31mSyntaxError\u001b[0m\u001b[1;31m:\u001b[0m positional argument follows keyword argument\n"
     ]
    }
   ],
   "source": [
    "def showWeather(data1):\n",
    "    global x\n",
    "    newScreen = tk.Toplevel()\n",
    "    newScreen.title('Weather Result')\n",
    "    newScreen.geometry('200x300+550+250')\n",
    "    newScreen.resizable(0, 0)\n",
    "    icon_image = tk.PhotoImage(data=data1[4])\n",
    "    icon_label = tk.Label(newScreen, image=icon_image)\n",
    "    icon_label.place(x=0, y=15)\n",
    "    \n",
    "    desc = tk.Label(newScreen, text=data1[5], font=('Times', 15, 'bold'))\n",
    "    desc.place(x=50, y=20)\n",
    "    \n",
    "    location = tk.Label(newScreen, text=f\"Location : {data1[0]}\", font('Times', 13))\n",
    "    #location = tk.Label(newScreen, text=data1[0], font('Times', 13))\n",
    "    location.place(x=20, y=70)\n",
    "    \n",
    "    temperature = tk.Label(newScreen, text=f\"Temperature : {data1[1]}'C'\", font('Times', 13))\n",
    "    temperature.place(x=20, y=110)\n",
    "    \n",
    "    current_humidity = tk.Label(newScreen, text=f\"Humidity : {data1[2]%}\", font('Times', 13))\n",
    "    current_humidity.place(x=20, y=150)\n",
    "    \n",
    "    current_pressure = tk.Label(newScreen, text=f\"Pressure : {data1[3]}\", font('Times', 13))\n",
    "    current_pressure.place(x=20, y=190)\n",
    "    \n",
    "    close_button = tk.Button(newScreen, text='Close', command= lambda : [city.delete(0, tk.END), newScreen.destroy()], font=('Times', 15, 'bold'), bg='#121212', fg='#fafef8')\n",
    "    close_button.place(x=70, y=230)\n",
    "    \n",
    "    newScreen.mainloop()\n",
    "    "
   ]
  },
  {
   "cell_type": "raw",
   "metadata": {},
   "source": [
    "def findWeather():\n",
    "    city_name = city.get()\n",
    "    complete_url = base_url + \"appid=\" + api_key + \"&q=\" + city_name\n",
    "    response = requests.get(complete_url)\n",
    "    x = response.json()\n",
    "    \n",
    "    if x[\"cod\"] == \"404\":\n",
    "        y = x[\"main\"]\n",
    "        current_temperature = y[\"temp\"]\n",
    "        current_pressure = y[\"pressure\"]\n",
    "        current_humidity = y[\"humidity\"]\n",
    "        z = x[\"weather\"]\n",
    "        weather_description = z[0][\"description\"]\n",
    "        temperature = str(current_temperature-273.15)[0:5]\n",
    "        icon = getIcon(z[0]['icon'])\n",
    "        showWeather([city_name, temperature, current_humidity, current_pressure, icon, z[0]['description']])\n",
    "    else:\n",
    "        showerror('Error','City Not Valid!\\nPlease Check!')\n",
    "        city.delete(0, tk.END)\n"
   ]
  },
  {
   "cell_type": "code",
   "execution_count": 4,
   "metadata": {},
   "outputs": [],
   "source": [
    "# main"
   ]
  },
  {
   "cell_type": "code",
   "execution_count": 5,
   "metadata": {},
   "outputs": [],
   "source": [
    "# basic info"
   ]
  },
  {
   "cell_type": "code",
   "execution_count": 6,
   "metadata": {},
   "outputs": [],
   "source": [
    "ow_api_key = \"10b18e17400a144ab707a33084cbe5f5\""
   ]
  },
  {
   "cell_type": "code",
   "execution_count": 7,
   "metadata": {},
   "outputs": [],
   "source": [
    "ow_base_url = \"http://api.openweathermap.org/data/2.5/weather?\""
   ]
  },
  {
   "cell_type": "code",
   "execution_count": 8,
   "metadata": {},
   "outputs": [],
   "source": [
    "# GUI"
   ]
  },
  {
   "cell_type": "code",
   "execution_count": 10,
   "metadata": {},
   "outputs": [],
   "source": [
    "root = tk.Tk()"
   ]
  },
  {
   "cell_type": "code",
   "execution_count": 12,
   "metadata": {},
   "outputs": [],
   "source": [
    "root.title = ('Weather App')"
   ]
  },
  {
   "cell_type": "code",
   "execution_count": 14,
   "metadata": {},
   "outputs": [
    {
     "data": {
      "text/plain": [
       "''"
      ]
     },
     "execution_count": 14,
     "metadata": {},
     "output_type": "execute_result"
    }
   ],
   "source": [
    "root.geometry('450x250+550+250')"
   ]
  },
  {
   "cell_type": "code",
   "execution_count": 15,
   "metadata": {},
   "outputs": [
    {
     "data": {
      "text/plain": [
       "''"
      ]
     },
     "execution_count": 15,
     "metadata": {},
     "output_type": "execute_result"
    }
   ],
   "source": [
    "root.resizable(0,0)"
   ]
  },
  {
   "cell_type": "code",
   "execution_count": 21,
   "metadata": {},
   "outputs": [],
   "source": [
    "bg_picture = tk.PhotoImage(file='bg.png')"
   ]
  },
  {
   "cell_type": "code",
   "execution_count": 22,
   "metadata": {},
   "outputs": [],
   "source": [
    "bg = tk.Label(root, image=bg_picture)"
   ]
  },
  {
   "cell_type": "code",
   "execution_count": 23,
   "metadata": {},
   "outputs": [],
   "source": [
    "bg.pack()"
   ]
  },
  {
   "cell_type": "code",
   "execution_count": 25,
   "metadata": {},
   "outputs": [],
   "source": [
    "tit_le = tk.Label(root, text=\"Enter City Below\", font=('Times',20, 'bold'), bg = '#1f252f', fg = '#fafef8')"
   ]
  },
  {
   "cell_type": "code",
   "execution_count": 26,
   "metadata": {},
   "outputs": [],
   "source": [
    "tit_le.place(x=130, y=75)"
   ]
  },
  {
   "cell_type": "code",
   "execution_count": 29,
   "metadata": {},
   "outputs": [],
   "source": [
    "city = tk.Entry(root, font=('Times',15))"
   ]
  },
  {
   "cell_type": "code",
   "execution_count": 30,
   "metadata": {},
   "outputs": [],
   "source": [
    "city.place(x=125, y=140)"
   ]
  },
  {
   "cell_type": "code",
   "execution_count": 31,
   "metadata": {},
   "outputs": [],
   "source": [
    "city.focus()"
   ]
  },
  {
   "cell_type": "code",
   "execution_count": 55,
   "metadata": {},
   "outputs": [
    {
     "ename": "NameError",
     "evalue": "name 'findWeather' is not defined",
     "output_type": "error",
     "traceback": [
      "\u001b[1;31m---------------------------------------------------------------------------\u001b[0m",
      "\u001b[1;31mNameError\u001b[0m                                 Traceback (most recent call last)",
      "\u001b[1;32m<ipython-input-55-b9a1fdbb401d>\u001b[0m in \u001b[0;36m<module>\u001b[1;34m\u001b[0m\n\u001b[1;32m----> 1\u001b[1;33m \u001b[0mcta_button\u001b[0m \u001b[1;33m=\u001b[0m \u001b[0mtk\u001b[0m\u001b[1;33m.\u001b[0m\u001b[0mButton\u001b[0m\u001b[1;33m(\u001b[0m\u001b[0mroot\u001b[0m\u001b[1;33m,\u001b[0m \u001b[0mtext\u001b[0m \u001b[1;33m=\u001b[0m \u001b[1;34m'Find Weather'\u001b[0m\u001b[1;33m,\u001b[0m \u001b[0mcommand\u001b[0m \u001b[1;33m=\u001b[0m \u001b[0mfindWeather\u001b[0m\u001b[1;33m)\u001b[0m\u001b[1;33m\u001b[0m\u001b[1;33m\u001b[0m\u001b[0m\n\u001b[0m",
      "\u001b[1;31mNameError\u001b[0m: name 'findWeather' is not defined"
     ]
    }
   ],
   "source": [
    "cta_button = tk.Button(root, text = 'Find Weather', command = findWeather)"
   ]
  },
  {
   "cell_type": "code",
   "execution_count": 54,
   "metadata": {},
   "outputs": [
    {
     "ename": "NameError",
     "evalue": "name 'cta_button' is not defined",
     "output_type": "error",
     "traceback": [
      "\u001b[1;31m---------------------------------------------------------------------------\u001b[0m",
      "\u001b[1;31mNameError\u001b[0m                                 Traceback (most recent call last)",
      "\u001b[1;32m<ipython-input-54-72ca4090954d>\u001b[0m in \u001b[0;36m<module>\u001b[1;34m\u001b[0m\n\u001b[1;32m----> 1\u001b[1;33m \u001b[0mcta_button\u001b[0m\u001b[1;33m.\u001b[0m\u001b[0mplace\u001b[0m\u001b[1;33m(\u001b[0m\u001b[0mx\u001b[0m\u001b[1;33m=\u001b[0m\u001b[1;36m185\u001b[0m\u001b[1;33m,\u001b[0m \u001b[0my\u001b[0m\u001b[1;33m=\u001b[0m\u001b[1;36m180\u001b[0m\u001b[1;33m)\u001b[0m\u001b[1;33m\u001b[0m\u001b[1;33m\u001b[0m\u001b[0m\n\u001b[0m",
      "\u001b[1;31mNameError\u001b[0m: name 'cta_button' is not defined"
     ]
    }
   ],
   "source": [
    "cta_button.place(x=185, y=180)"
   ]
  },
  {
   "cell_type": "code",
   "execution_count": null,
   "metadata": {},
   "outputs": [],
   "source": [
    "root.mainloop()"
   ]
  }
 ],
 "metadata": {
  "kernelspec": {
   "display_name": "Python 3",
   "language": "python",
   "name": "python3"
  },
  "language_info": {
   "codemirror_mode": {
    "name": "ipython",
    "version": 3
   },
   "file_extension": ".py",
   "mimetype": "text/x-python",
   "name": "python",
   "nbconvert_exporter": "python",
   "pygments_lexer": "ipython3",
   "version": "3.7.6"
  }
 },
 "nbformat": 4,
 "nbformat_minor": 4
}
