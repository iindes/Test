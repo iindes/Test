{
 "cells": [
  {
   "cell_type": "markdown",
   "id": "03ee08da",
   "metadata": {},
   "source": [
    "# Crawling Tweet for Topic"
   ]
  },
  {
   "cell_type": "markdown",
   "id": "d87a60ef",
   "metadata": {},
   "source": [
    "## Import Library"
   ]
  },
  {
   "cell_type": "code",
   "execution_count": 31,
   "id": "968adbe7",
   "metadata": {},
   "outputs": [],
   "source": [
    "# -*- coding: utf-8 -*-\n",
    "\n",
    "%matplotlib inline\n",
    "\n",
    "import pandas as pd\n",
    "import numpy as np\n",
    "import matplotlib.pyplot as plt\n",
    "\n",
    "import warnings\n",
    "warnings.filterwarnings(\"ignore\")"
   ]
  },
  {
   "cell_type": "code",
   "execution_count": 32,
   "id": "78ad2861",
   "metadata": {},
   "outputs": [],
   "source": [
    "# import library: time\n",
    "import time\n",
    "now = time.localtime() # used to add timestamp to filename"
   ]
  },
  {
   "cell_type": "markdown",
   "id": "3aa3668a",
   "metadata": {},
   "source": [
    "## <Step1. API 호출> : 트위터 API로 데이터 가져오기"
   ]
  },
  {
   "cell_type": "markdown",
   "id": "af9ea9aa",
   "metadata": {},
   "source": [
    "### [API 데이터로 데이터프레임 생성하기]"
   ]
  },
  {
   "cell_type": "markdown",
   "id": "66fea150",
   "metadata": {},
   "source": [
    "### 트위터 API 가져오기"
   ]
  },
  {
   "cell_type": "code",
   "execution_count": null,
   "id": "e7a87d93",
   "metadata": {},
   "outputs": [],
   "source": [
    "!pip install tweepy==3.10.0\n"
   ]
  },
  {
   "cell_type": "code",
   "execution_count": null,
   "id": "e3dd1d5b",
   "metadata": {},
   "outputs": [],
   "source": [
    "# 패키지 설치 확인\n",
    "import tweepy #ModuleNotFoundError: No module named 'tweepy'\n",
    "tweepy.__version__"
   ]
  },
  {
   "cell_type": "code",
   "execution_count": 34,
   "id": "48732f30",
   "metadata": {},
   "outputs": [],
   "source": [
    "# 발급 완료된 키를 {your_key} 대신 입력합니다.\n",
    "CONSUMER_KEY = \"GyhYUuPz1n7G8xJinc6oS669Q\"\n",
    "CONSUMER_SECRET = \"zYUmczSjM9r4yjUT6TKOFVNoAvjn84uZ8p2FtJGPYeTpAL83RB\"\n",
    "ACCESS_TOKEN_KEY = \"1449194998998593543-f5yvwnxfwwAQj4YN35Ubgr1nJnUpk2\"\n",
    "ACCESS_TOKEN_SECRET = \"iMbxkqQfnBkbrzKbPVbtT3peJpsWmxIS2UBnF3LbRKgSM\""
   ]
  },
  {
   "cell_type": "code",
   "execution_count": 35,
   "id": "c45d05af",
   "metadata": {},
   "outputs": [],
   "source": [
    "# 개인정보 인증을 요청하는 Handler입니다.\n",
    "auth = tweepy.OAuthHandler(CONSUMER_KEY, CONSUMER_SECRET)"
   ]
  },
  {
   "cell_type": "code",
   "execution_count": 36,
   "id": "ef3d4720",
   "metadata": {},
   "outputs": [],
   "source": [
    "# 인증 요청을 수행합니다.\n",
    "auth.set_access_token(ACCESS_TOKEN_KEY, ACCESS_TOKEN_SECRET)"
   ]
  },
  {
   "cell_type": "code",
   "execution_count": 37,
   "id": "66f9e55f",
   "metadata": {},
   "outputs": [],
   "source": [
    "# twitter API를 사용하기 위한 준비입니다.\n",
    "api = tweepy.API(auth)"
   ]
  },
  {
   "cell_type": "markdown",
   "id": "039a6975",
   "metadata": {},
   "source": [
    "### 키워드 검색"
   ]
  },
  {
   "cell_type": "code",
   "execution_count": 38,
   "id": "012597f8",
   "metadata": {},
   "outputs": [
    {
     "name": "stdout",
     "output_type": "stream",
     "text": [
      "라그나로크라고?어떻게..../자동\n",
      "[]\n",
      "[]\n",
      "2021-10-24 03:23:59+00:00\n",
      "유독 라그나로크 비하인드가 많은 거 같은데... 가장 안 풀리긴 했지..... 저때 망토 찢어져서 반망토로 다니는게 너무 좋았던.... https://t.co/PmDVWNJDnx\n",
      "[]\n",
      "[]\n",
      "2021-10-24 02:40:01+00:00\n",
      "그럼, \"라그나로크\"를 일으키는 이 힘으로——\n",
      "네가 비웃었던 파멸자의 힘으로 이 세상의 약자들을 지켜내겠다——\n",
      "모두를 제물로 바치는 의식이 진정 신의 뜻이라면——\n",
      "그럼, 나는 이 곳에서—— 신에게 선전포고를 하겠다.\n",
      "[]\n",
      "[]\n",
      "2021-10-24 01:44:24+00:00\n",
      "로드의 순수한 혈통이 아니라면 라그나로크를 사용하지 못하는 것은 당연하겠지/자동\n",
      "[]\n",
      "[]\n",
      "2021-10-23 23:23:48+00:00\n",
      "우린 라그나로크의 굴레에서 벗어났지. 아스가르드인들은 처음으로 자신들이 운명의 굴레에서 벗어나서 자유가 됐다고 믿고있고.\n",
      "[]\n",
      "[]\n",
      "2021-10-23 22:16:51+00:00\n",
      ".... ..... 어찌 됐든... 나는 이제 탈락자고, 당신은 살아남아있으니까... ... 살아남기를 바랄게. 벌써 여기까지 와버렸잖아. 라그나로크 게임의 본분을 다 하라구. 다들 자기 몸은 지킬 줄 알걸.\n",
      "[]\n",
      "[]\n",
      "2021-10-23 20:49:08+00:00\n",
      "그래... 도적인데 불사신이라 탱커여서 가장 많이 뚫렸었지... 왜 라그나로크에서도 싹 벗긴거야ㅋㅋㅋㄱㅋ 우리 반... 옷 좀 여미고다니렴... 가을이라 춥다... https://t.co/h99F5x6b3D\n",
      "[]\n",
      "[]\n",
      "2021-10-23 18:51:40+00:00\n",
      "유명인이라서 좋겠다~!!그런 사람이 누추한 라그나로크까지 친히 오셨대?\n",
      "[]\n",
      "[]\n",
      "2021-10-23 16:48:49+00:00\n",
      "이제 한동안 이런 유흥거리 즐길 겨를도 없을게다. 다들 라그나로크를 준비해라.\n",
      "[]\n",
      "[]\n",
      "2021-10-23 14:40:37+00:00\n",
      "@async3619 사용표시용\n",
      "라그나로크 펜효과 쓰고나면 자기한테 1000댐에 이번턴 전투대미지 절감되서 표시햇어요\n",
      "[{'screen_name': 'async3619', 'name': '소피아', 'id': 1390297091054788611, 'id_str': '1390297091054788611', 'indices': [0, 10]}]\n",
      "[]\n",
      "2021-10-23 13:53:38+00:00\n",
      "RT @atomicBTC: [투자에 관한 story]\n",
      "\n",
      "요새 투자자/비투자자간의 AT필드같은 것이 형성되어 있어 마침 해당글을 올립니다.\n",
      "\n",
      "먼저 저의 간략한 소개로 시작합니다.\n",
      "\n",
      "저는 온라인게임(라그나로크)라는 게임을 중/고/대학교때까지 지속하였습니…\n",
      "[{'screen_name': 'atomicBTC', 'name': 'ATOMIC⚡️₿ITCOIN', 'id': 114938640, 'id_str': '114938640', 'indices': [3, 13]}]\n",
      "[]\n",
      "2021-10-23 13:02:11+00:00\n",
      "역시 솔로가 더 잘 맞았구나, 당신은... 그래서 화려하게 타오르기 위해서, 다른 사람을 짓밟았어? 그.. 무대에서 있었던 사고. (눈을 느릿하게 깜빡였다.) 맞다면.. 어쩌면 드라마틱한 서사의 클라이막스였을지도. 라그나로크로 추락하는 별이라니.. -\n",
      "[]\n",
      "[]\n",
      "2021-10-23 12:48:43+00:00\n",
      "라그나로크 온라인\n",
      "\n",
      "마비-파판14로 동인 대이동이 있었던것처럼 마비 이전에는 라그가 있었다. 인생게임\n",
      "사실 내 폰에 라그나로크 오리진 깔려있다. 그때 그시절을 그대로~ 이런 캐치프레이즈를 몇번봤는지 모르겠다… https://t.co/c9vH0pkdTQ\n",
      "[]\n",
      "[]\n",
      "2021-10-23 12:35:50+00:00\n",
      "RT @lolopam_: 라그나로크 대본집 읽다가 로키창작연극씬에서ㅋㅋㅋㅋㅋㅠㅜ 로키가 토르 대사쓴것 좀 보셈 실제로는 토르가 로키한테 저런말 일절 안했다는게 진짜 개웃김 https://t.co/jlLnEORxIm\n",
      "[{'screen_name': 'lolopam_', 'name': '로팜', 'id': 1415369281739497472, 'id_str': '1415369281739497472', 'indices': [3, 12]}]\n",
      "[]\n",
      "2021-10-23 11:28:35+00:00\n"
     ]
    }
   ],
   "source": [
    "# twitter API를 사용하여 ‘손흥민’이 포함된 트윗들을 크롤링한 뒤, entities 에서 ‘user_mentions’, ‘hashtags’를 추출합니다.\n",
    "keyword = \"라그나로크\"\n",
    "# tweets = api.search(keyword) #Old version: replaced to search_tweets()\n",
    "tweets = api.search_tweets(keyword)\n",
    "for tweet in tweets:\n",
    "    print(tweet.text)\n",
    "    print(tweet.entities['user_mentions'])\n",
    "    print(tweet.entities['hashtags'])\n",
    "    print(tweet.created_at)"
   ]
  },
  {
   "cell_type": "markdown",
   "id": "f64ea737",
   "metadata": {},
   "source": [
    "### 데이터프레임 형태로 수집"
   ]
  },
  {
   "cell_type": "code",
   "execution_count": 39,
   "id": "37e16524",
   "metadata": {},
   "outputs": [],
   "source": [
    "# 크롤링된 데이터를 저장할 데이터 프레임입니다.\n",
    "columns = ['created', 'tweet_text']\n",
    "df = pd.DataFrame(columns=columns)"
   ]
  },
  {
   "cell_type": "code",
   "execution_count": 40,
   "id": "2b09beb2",
   "metadata": {},
   "outputs": [],
   "source": [
    "# 크롤링을 수행할 갯수를 입력하고, Cursor 객체를 사용하여 크롤링을 수행합니다.\n",
    "max_tweets = 1000\n",
    "searched_tweets = [status for status in tweepy.Cursor(api.search_tweets, q=keyword).items(max_tweets)]"
   ]
  },
  {
   "cell_type": "code",
   "execution_count": 41,
   "id": "6925ce20",
   "metadata": {},
   "outputs": [],
   "source": [
    "# 키워드가 포함된 1000개의 트윗들에서, ‘text’, ‘created_at’ 정보를 데이터 프레임으로 저장합니다.\n",
    "for tweet in searched_tweets:\n",
    "    tweet_json = tweet._json\n",
    "    tweet_text = tweet_json['text']\n",
    "    created = tweet_json['created_at']\n",
    "    row = [created, tweet_text]\n",
    "    series = pd.Series(row, index=df.columns)\n",
    "    df = df.append(series, ignore_index=True)"
   ]
  },
  {
   "cell_type": "code",
   "execution_count": 42,
   "id": "f71a7d23",
   "metadata": {},
   "outputs": [],
   "source": [
    "# file name\n",
    "# file_name = 'tweet_temp'\n",
    "# rel_path =  output_path + file_name + '_' + str(now.tm_mon).zfill(2) + str(now.tm_mday).zfill(2) + str(now.tm_hour).zfill(2) + str(now.tm_min).zfill(2) + '.csv'\n",
    "\n",
    "df.to_csv(\"tweet_temp.csv\", index=False)"
   ]
  },
  {
   "cell_type": "markdown",
   "id": "189804e3",
   "metadata": {},
   "source": [
    "## <Step2. 추출> : 키워드 추출"
   ]
  },
  {
   "cell_type": "markdown",
   "id": "a2ddbc77",
   "metadata": {},
   "source": [
    "### [텍스트 데이터 전처리]"
   ]
  },
  {
   "cell_type": "code",
   "execution_count": 43,
   "id": "88994757",
   "metadata": {},
   "outputs": [
    {
     "data": {
      "text/html": [
       "<div>\n",
       "<style scoped>\n",
       "    .dataframe tbody tr th:only-of-type {\n",
       "        vertical-align: middle;\n",
       "    }\n",
       "\n",
       "    .dataframe tbody tr th {\n",
       "        vertical-align: top;\n",
       "    }\n",
       "\n",
       "    .dataframe thead th {\n",
       "        text-align: right;\n",
       "    }\n",
       "</style>\n",
       "<table border=\"1\" class=\"dataframe\">\n",
       "  <thead>\n",
       "    <tr style=\"text-align: right;\">\n",
       "      <th></th>\n",
       "      <th>created</th>\n",
       "      <th>tweet_text</th>\n",
       "    </tr>\n",
       "  </thead>\n",
       "  <tbody>\n",
       "    <tr>\n",
       "      <th>0</th>\n",
       "      <td>Sun Oct 24 03:23:59 +0000 2021</td>\n",
       "      <td>라그나로크라고?어떻게..../자동</td>\n",
       "    </tr>\n",
       "    <tr>\n",
       "      <th>1</th>\n",
       "      <td>Sun Oct 24 02:40:01 +0000 2021</td>\n",
       "      <td>유독 라그나로크 비하인드가 많은 거 같은데... 가장 안 풀리긴 했지..... 저때...</td>\n",
       "    </tr>\n",
       "    <tr>\n",
       "      <th>2</th>\n",
       "      <td>Sun Oct 24 01:44:24 +0000 2021</td>\n",
       "      <td>그럼, \"라그나로크\"를 일으키는 이 힘으로——\\n네가 비웃었던 파멸자의 힘으로 이 ...</td>\n",
       "    </tr>\n",
       "    <tr>\n",
       "      <th>3</th>\n",
       "      <td>Sat Oct 23 23:23:48 +0000 2021</td>\n",
       "      <td>로드의 순수한 혈통이 아니라면 라그나로크를 사용하지 못하는 것은 당연하겠지/자동</td>\n",
       "    </tr>\n",
       "    <tr>\n",
       "      <th>4</th>\n",
       "      <td>Sat Oct 23 22:16:51 +0000 2021</td>\n",
       "      <td>우린 라그나로크의 굴레에서 벗어났지. 아스가르드인들은 처음으로 자신들이 운명의 굴레...</td>\n",
       "    </tr>\n",
       "  </tbody>\n",
       "</table>\n",
       "</div>"
      ],
      "text/plain": [
       "                          created  \\\n",
       "0  Sun Oct 24 03:23:59 +0000 2021   \n",
       "1  Sun Oct 24 02:40:01 +0000 2021   \n",
       "2  Sun Oct 24 01:44:24 +0000 2021   \n",
       "3  Sat Oct 23 23:23:48 +0000 2021   \n",
       "4  Sat Oct 23 22:16:51 +0000 2021   \n",
       "\n",
       "                                          tweet_text  \n",
       "0                                 라그나로크라고?어떻게..../자동  \n",
       "1  유독 라그나로크 비하인드가 많은 거 같은데... 가장 안 풀리긴 했지..... 저때...  \n",
       "2  그럼, \"라그나로크\"를 일으키는 이 힘으로——\\n네가 비웃었던 파멸자의 힘으로 이 ...  \n",
       "3       로드의 순수한 혈통이 아니라면 라그나로크를 사용하지 못하는 것은 당연하겠지/자동  \n",
       "4  우린 라그나로크의 굴레에서 벗어났지. 아스가르드인들은 처음으로 자신들이 운명의 굴레...  "
      ]
     },
     "execution_count": 43,
     "metadata": {},
     "output_type": "execute_result"
    }
   ],
   "source": [
    "df = pd.read_csv(\"tweet_temp.csv\")\n",
    "df.head()"
   ]
  },
  {
   "cell_type": "code",
   "execution_count": 44,
   "id": "0eab28d6",
   "metadata": {},
   "outputs": [],
   "source": [
    "# import library\n",
    "import re # re — Regular expression operations\n",
    "\n",
    "# 텍스트 정제 함수 : 한글 이외의 문자는 전부 제거합니다.\n",
    "def text_cleaning(text):\n",
    "    hangul = re.compile('[^ ㄱ-ㅣ가-힣]+') # 한글의 정규표현식을 나타냅니다.\n",
    "    result = hangul.sub('', text)\n",
    "    return result"
   ]
  },
  {
   "cell_type": "code",
   "execution_count": 45,
   "id": "e7d1c572",
   "metadata": {},
   "outputs": [
    {
     "data": {
      "text/html": [
       "<div>\n",
       "<style scoped>\n",
       "    .dataframe tbody tr th:only-of-type {\n",
       "        vertical-align: middle;\n",
       "    }\n",
       "\n",
       "    .dataframe tbody tr th {\n",
       "        vertical-align: top;\n",
       "    }\n",
       "\n",
       "    .dataframe thead th {\n",
       "        text-align: right;\n",
       "    }\n",
       "</style>\n",
       "<table border=\"1\" class=\"dataframe\">\n",
       "  <thead>\n",
       "    <tr style=\"text-align: right;\">\n",
       "      <th></th>\n",
       "      <th>created</th>\n",
       "      <th>tweet_text</th>\n",
       "      <th>ko_text</th>\n",
       "    </tr>\n",
       "  </thead>\n",
       "  <tbody>\n",
       "    <tr>\n",
       "      <th>0</th>\n",
       "      <td>Sun Oct 24 03:23:59 +0000 2021</td>\n",
       "      <td>라그나로크라고?어떻게..../자동</td>\n",
       "      <td>라그나로크라고어떻게자동</td>\n",
       "    </tr>\n",
       "    <tr>\n",
       "      <th>1</th>\n",
       "      <td>Sun Oct 24 02:40:01 +0000 2021</td>\n",
       "      <td>유독 라그나로크 비하인드가 많은 거 같은데... 가장 안 풀리긴 했지..... 저때...</td>\n",
       "      <td>유독 라그나로크 비하인드가 많은 거 같은데 가장 안 풀리긴 했지 저때 망토 찢어져서...</td>\n",
       "    </tr>\n",
       "    <tr>\n",
       "      <th>2</th>\n",
       "      <td>Sun Oct 24 01:44:24 +0000 2021</td>\n",
       "      <td>그럼, \"라그나로크\"를 일으키는 이 힘으로——\\n네가 비웃었던 파멸자의 힘으로 이 ...</td>\n",
       "      <td>그럼 라그나로크를 일으키는 이 힘으로네가 비웃었던 파멸자의 힘으로 이 세상의 약자들...</td>\n",
       "    </tr>\n",
       "    <tr>\n",
       "      <th>3</th>\n",
       "      <td>Sat Oct 23 23:23:48 +0000 2021</td>\n",
       "      <td>로드의 순수한 혈통이 아니라면 라그나로크를 사용하지 못하는 것은 당연하겠지/자동</td>\n",
       "      <td>로드의 순수한 혈통이 아니라면 라그나로크를 사용하지 못하는 것은 당연하겠지자동</td>\n",
       "    </tr>\n",
       "    <tr>\n",
       "      <th>4</th>\n",
       "      <td>Sat Oct 23 22:16:51 +0000 2021</td>\n",
       "      <td>우린 라그나로크의 굴레에서 벗어났지. 아스가르드인들은 처음으로 자신들이 운명의 굴레...</td>\n",
       "      <td>우린 라그나로크의 굴레에서 벗어났지 아스가르드인들은 처음으로 자신들이 운명의 굴레에...</td>\n",
       "    </tr>\n",
       "  </tbody>\n",
       "</table>\n",
       "</div>"
      ],
      "text/plain": [
       "                          created  \\\n",
       "0  Sun Oct 24 03:23:59 +0000 2021   \n",
       "1  Sun Oct 24 02:40:01 +0000 2021   \n",
       "2  Sun Oct 24 01:44:24 +0000 2021   \n",
       "3  Sat Oct 23 23:23:48 +0000 2021   \n",
       "4  Sat Oct 23 22:16:51 +0000 2021   \n",
       "\n",
       "                                          tweet_text  \\\n",
       "0                                 라그나로크라고?어떻게..../자동   \n",
       "1  유독 라그나로크 비하인드가 많은 거 같은데... 가장 안 풀리긴 했지..... 저때...   \n",
       "2  그럼, \"라그나로크\"를 일으키는 이 힘으로——\\n네가 비웃었던 파멸자의 힘으로 이 ...   \n",
       "3       로드의 순수한 혈통이 아니라면 라그나로크를 사용하지 못하는 것은 당연하겠지/자동   \n",
       "4  우린 라그나로크의 굴레에서 벗어났지. 아스가르드인들은 처음으로 자신들이 운명의 굴레...   \n",
       "\n",
       "                                             ko_text  \n",
       "0                                       라그나로크라고어떻게자동  \n",
       "1  유독 라그나로크 비하인드가 많은 거 같은데 가장 안 풀리긴 했지 저때 망토 찢어져서...  \n",
       "2  그럼 라그나로크를 일으키는 이 힘으로네가 비웃었던 파멸자의 힘으로 이 세상의 약자들...  \n",
       "3        로드의 순수한 혈통이 아니라면 라그나로크를 사용하지 못하는 것은 당연하겠지자동  \n",
       "4  우린 라그나로크의 굴레에서 벗어났지 아스가르드인들은 처음으로 자신들이 운명의 굴레에...  "
      ]
     },
     "execution_count": 45,
     "metadata": {},
     "output_type": "execute_result"
    }
   ],
   "source": [
    "# ‘tweet_text’ 피처에 이를 적용합니다.\n",
    "df['ko_text'] = df['tweet_text'].apply(lambda x: text_cleaning(x))\n",
    "df.head()"
   ]
  },
  {
   "cell_type": "markdown",
   "id": "8a59c9cc",
   "metadata": {},
   "source": [
    "### [konlpy를 이용한 키워드 추출]"
   ]
  },
  {
   "cell_type": "code",
   "execution_count": 46,
   "id": "01985158",
   "metadata": {},
   "outputs": [],
   "source": [
    "# JPype1\n",
    "#!pip install JPype1 #Successfully installed JPype1-1.3.0"
   ]
  },
  {
   "cell_type": "code",
   "execution_count": 47,
   "id": "fcbe4a7f",
   "metadata": {},
   "outputs": [],
   "source": [
    "# !pip install konply\n",
    "\n",
    "# AttributeError: module 'tweepy' has no attribute 'StreamListener'\n",
    "# 2021년 10월 6일 기준 진행 시 tweepy 버전 이슈 문제가 존재합니다.\n",
    "# https://github.com/konlpy/konlpy/issues/371"
   ]
  },
  {
   "cell_type": "code",
   "execution_count": 30,
   "id": "3a2428e0",
   "metadata": {},
   "outputs": [
    {
     "data": {
      "text/plain": [
       "'4.1.0'"
      ]
     },
     "execution_count": 30,
     "metadata": {},
     "output_type": "execute_result"
    }
   ],
   "source": [
    "tweepy.__version__"
   ]
  },
  {
   "cell_type": "code",
   "execution_count": 29,
   "id": "eb8009c5",
   "metadata": {},
   "outputs": [
    {
     "ename": "AttributeError",
     "evalue": "module 'tweepy' has no attribute 'StreamListener'",
     "output_type": "error",
     "traceback": [
      "\u001b[1;31m---------------------------------------------------------------------------\u001b[0m",
      "\u001b[1;31mAttributeError\u001b[0m                            Traceback (most recent call last)",
      "\u001b[1;32m<ipython-input-29-02ef9352f72c>\u001b[0m in \u001b[0;36m<module>\u001b[1;34m\u001b[0m\n\u001b[0;32m      1\u001b[0m \u001b[1;31m# import library\u001b[0m\u001b[1;33m\u001b[0m\u001b[1;33m\u001b[0m\u001b[1;33m\u001b[0m\u001b[0m\n\u001b[1;32m----> 2\u001b[1;33m \u001b[1;32mfrom\u001b[0m \u001b[0mkonlpy\u001b[0m\u001b[1;33m.\u001b[0m\u001b[0mtag\u001b[0m \u001b[1;32mimport\u001b[0m \u001b[0mOkt\u001b[0m\u001b[1;33m\u001b[0m\u001b[1;33m\u001b[0m\u001b[0m\n\u001b[0m\u001b[0;32m      3\u001b[0m \u001b[1;32mfrom\u001b[0m \u001b[0mcollections\u001b[0m \u001b[1;32mimport\u001b[0m \u001b[0mCounter\u001b[0m\u001b[1;33m\u001b[0m\u001b[1;33m\u001b[0m\u001b[0m\n\u001b[0;32m      4\u001b[0m \u001b[1;33m\u001b[0m\u001b[0m\n\u001b[0;32m      5\u001b[0m \u001b[1;33m\u001b[0m\u001b[0m\n",
      "\u001b[1;32mC:\\ProgramData\\Anaconda3\\lib\\site-packages\\konlpy\\__init__.py\u001b[0m in \u001b[0;36m<module>\u001b[1;34m\u001b[0m\n\u001b[0;32m     10\u001b[0m \u001b[1;33m\u001b[0m\u001b[0m\n\u001b[0;32m     11\u001b[0m \u001b[1;32mfrom\u001b[0m \u001b[0mkonlpy\u001b[0m\u001b[1;33m.\u001b[0m\u001b[0mjvm\u001b[0m \u001b[1;32mimport\u001b[0m \u001b[0minit_jvm\u001b[0m\u001b[1;33m\u001b[0m\u001b[1;33m\u001b[0m\u001b[0m\n\u001b[1;32m---> 12\u001b[1;33m from konlpy import (\n\u001b[0m\u001b[0;32m     13\u001b[0m     \u001b[0mcorpus\u001b[0m\u001b[1;33m,\u001b[0m\u001b[1;33m\u001b[0m\u001b[1;33m\u001b[0m\u001b[0m\n\u001b[0;32m     14\u001b[0m     \u001b[0mdata\u001b[0m\u001b[1;33m,\u001b[0m\u001b[1;33m\u001b[0m\u001b[1;33m\u001b[0m\u001b[0m\n",
      "\u001b[1;32mC:\\ProgramData\\Anaconda3\\lib\\site-packages\\konlpy\\stream\\__init__.py\u001b[0m in \u001b[0;36m<module>\u001b[1;34m\u001b[0m\n\u001b[0;32m      6\u001b[0m \u001b[1;33m\u001b[0m\u001b[0m\n\u001b[0;32m      7\u001b[0m \u001b[1;32mfrom\u001b[0m \u001b[0mkonlpy\u001b[0m\u001b[1;33m.\u001b[0m\u001b[0mstream\u001b[0m\u001b[1;33m.\u001b[0m\u001b[0mbase\u001b[0m \u001b[1;32mimport\u001b[0m \u001b[0mBaseStreamer\u001b[0m\u001b[1;33m,\u001b[0m \u001b[0mKonlpyStreamerError\u001b[0m\u001b[1;33m\u001b[0m\u001b[1;33m\u001b[0m\u001b[0m\n\u001b[1;32m----> 8\u001b[1;33m \u001b[1;32mfrom\u001b[0m \u001b[0mkonlpy\u001b[0m\u001b[1;33m.\u001b[0m\u001b[0mstream\u001b[0m\u001b[1;33m.\u001b[0m\u001b[0mtwitter\u001b[0m \u001b[1;32mimport\u001b[0m \u001b[0mTwitterStreamer\u001b[0m\u001b[1;33m\u001b[0m\u001b[1;33m\u001b[0m\u001b[0m\n\u001b[0m\u001b[0;32m      9\u001b[0m \u001b[1;32mfrom\u001b[0m \u001b[0mkonlpy\u001b[0m\u001b[1;33m.\u001b[0m\u001b[0mstream\u001b[0m\u001b[1;33m.\u001b[0m\u001b[0mnaver\u001b[0m \u001b[1;32mimport\u001b[0m \u001b[0mNaverStreamer\u001b[0m\u001b[1;33m\u001b[0m\u001b[1;33m\u001b[0m\u001b[0m\n\u001b[0;32m     10\u001b[0m \u001b[1;32mfrom\u001b[0m \u001b[0mkonlpy\u001b[0m\u001b[1;33m.\u001b[0m\u001b[0mstream\u001b[0m\u001b[1;33m.\u001b[0m\u001b[0mdcinside\u001b[0m \u001b[1;32mimport\u001b[0m \u001b[0mDCInsideStreamer\u001b[0m\u001b[1;33m\u001b[0m\u001b[1;33m\u001b[0m\u001b[0m\n",
      "\u001b[1;32mC:\\ProgramData\\Anaconda3\\lib\\site-packages\\konlpy\\stream\\twitter.py\u001b[0m in \u001b[0;36m<module>\u001b[1;34m\u001b[0m\n\u001b[0;32m     15\u001b[0m \u001b[1;33m\u001b[0m\u001b[0m\n\u001b[0;32m     16\u001b[0m \u001b[1;33m\u001b[0m\u001b[0m\n\u001b[1;32m---> 17\u001b[1;33m \u001b[1;32mclass\u001b[0m \u001b[0mCorpusListener\u001b[0m\u001b[1;33m(\u001b[0m\u001b[0mtweepy\u001b[0m\u001b[1;33m.\u001b[0m\u001b[0mStreamListener\u001b[0m\u001b[1;33m)\u001b[0m\u001b[1;33m:\u001b[0m\u001b[1;33m\u001b[0m\u001b[1;33m\u001b[0m\u001b[0m\n\u001b[0m\u001b[0;32m     18\u001b[0m     \u001b[1;32mdef\u001b[0m \u001b[0m__init__\u001b[0m\u001b[1;33m(\u001b[0m\u001b[0mself\u001b[0m\u001b[1;33m,\u001b[0m \u001b[0moptions\u001b[0m\u001b[1;33m,\u001b[0m \u001b[0mdirname\u001b[0m\u001b[1;33m,\u001b[0m \u001b[0mword_list\u001b[0m\u001b[1;33m)\u001b[0m\u001b[1;33m:\u001b[0m\u001b[1;33m\u001b[0m\u001b[1;33m\u001b[0m\u001b[0m\n\u001b[0;32m     19\u001b[0m         \"\"\"CorpusListener is a tweepy listener to listen on filtered list of words.\n",
      "\u001b[1;31mAttributeError\u001b[0m: module 'tweepy' has no attribute 'StreamListener'"
     ]
    }
   ],
   "source": [
    "# import library\n",
    "from konlpy.tag import Okt\n",
    "from collections import Counter\n",
    "\n",
    "\n",
    "# 한국어 약식 불용어사전 예시 파일입니다. 출처 - (https://www.ranks.nl/stopwords/korean)\n",
    "korean_stopwords_path = \"../data/korean_stopwords.txt\"\n",
    "with open(korean_stopwords_path, encoding='utf8') as f:\n",
    "    stopwords = f.readlines()\n",
    "stopwords = [x.strip() for x in stopwords]\n"
   ]
  },
  {
   "cell_type": "code",
   "execution_count": null,
   "id": "fb80acf6",
   "metadata": {},
   "outputs": [],
   "source": []
  }
 ],
 "metadata": {
  "kernelspec": {
   "display_name": "Python 3",
   "language": "python",
   "name": "python3"
  },
  "language_info": {
   "codemirror_mode": {
    "name": "ipython",
    "version": 3
   },
   "file_extension": ".py",
   "mimetype": "text/x-python",
   "name": "python",
   "nbconvert_exporter": "python",
   "pygments_lexer": "ipython3",
   "version": "3.7.11"
  }
 },
 "nbformat": 4,
 "nbformat_minor": 5
}
