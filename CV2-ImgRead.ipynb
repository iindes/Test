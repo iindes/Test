{
 "cells": [
  {
   "cell_type": "markdown",
   "metadata": {},
   "source": [
    "# CV2 - sample"
   ]
  },
  {
   "cell_type": "code",
   "execution_count": 1,
   "metadata": {},
   "outputs": [],
   "source": [
    "import cv2\n",
    "\n",
    "#fname = 'lena.jpg'\n",
    "fname = 'Australia_Day.jpg'\n",
    "\n",
    "original = cv2.imread(fname, cv2.IMREAD_COLOR)\n",
    "gray = cv2.imread(fname, cv2.IMREAD_GRAYSCALE)\n",
    "unchange = cv2.imread(fname, cv2.IMREAD_UNCHANGED)\n",
    "\n",
    "cv2.imshow('Original', original)\n",
    "cv2.imshow('Gray', gray)\n",
    "cv2.imshow('Unchange', unchange)\n",
    "\n",
    "cv2.waitKey(0)\n",
    "cv2.destroyAllWindows()"
   ]
  },
  {
   "cell_type": "code",
   "execution_count": null,
   "metadata": {},
   "outputs": [],
   "source": []
  }
 ],
 "metadata": {
  "kernelspec": {
   "display_name": "Python 3",
   "language": "python",
   "name": "python3"
  },
  "language_info": {
   "codemirror_mode": {
    "name": "ipython",
    "version": 3
   },
   "file_extension": ".py",
   "mimetype": "text/x-python",
   "name": "python",
   "nbconvert_exporter": "python",
   "pygments_lexer": "ipython3",
   "version": "3.7.6"
  }
 },
 "nbformat": 4,
 "nbformat_minor": 4
}
