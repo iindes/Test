{
 "cells": [
  {
   "cell_type": "markdown",
   "id": "5b4f4155",
   "metadata": {},
   "source": [
    "# Python API for Twitter"
   ]
  },
  {
   "cell_type": "code",
   "execution_count": 1,
   "id": "b9bad539",
   "metadata": {},
   "outputs": [
    {
     "name": "stdout",
     "output_type": "stream",
     "text": [
      "Requirement already satisfied: lxml in c:\\programdata\\anaconda3\\lib\\site-packages (4.6.3)\n"
     ]
    },
    {
     "name": "stderr",
     "output_type": "stream",
     "text": [
      "WARNING: You are using pip version 21.3; however, version 21.3.1 is available.\n",
      "You should consider upgrading via the 'C:\\ProgramData\\Anaconda3\\python.exe -m pip install --upgrade pip' command.\n"
     ]
    }
   ],
   "source": [
    "#!pip install lxml"
   ]
  },
  {
   "cell_type": "code",
   "execution_count": 4,
   "id": "7bf436e3",
   "metadata": {},
   "outputs": [
    {
     "name": "stdout",
     "output_type": "stream",
     "text": [
      "Collecting tweepy"
     ]
    },
    {
     "name": "stderr",
     "output_type": "stream",
     "text": [
      "WARNING: You are using pip version 21.3; however, version 21.3.1 is available.\n",
      "You should consider upgrading via the 'C:\\ProgramData\\Anaconda3\\python.exe -m pip install --upgrade pip' command.\n"
     ]
    },
    {
     "name": "stdout",
     "output_type": "stream",
     "text": [
      "\n",
      "  Downloading tweepy-4.1.0-py2.py3-none-any.whl (62 kB)\n",
      "Requirement already satisfied: requests-oauthlib<2,>=1.0.0 in c:\\programdata\\anaconda3\\lib\\site-packages (from tweepy) (1.3.0)\n",
      "Requirement already satisfied: requests<3,>=2.11.1 in c:\\programdata\\anaconda3\\lib\\site-packages (from tweepy) (2.26.0)\n",
      "Requirement already satisfied: idna<4,>=2.5 in c:\\programdata\\anaconda3\\lib\\site-packages (from requests<3,>=2.11.1->tweepy) (3.2)\n",
      "Requirement already satisfied: charset-normalizer~=2.0.0 in c:\\programdata\\anaconda3\\lib\\site-packages (from requests<3,>=2.11.1->tweepy) (2.0.4)\n",
      "Requirement already satisfied: certifi>=2017.4.17 in c:\\programdata\\anaconda3\\lib\\site-packages (from requests<3,>=2.11.1->tweepy) (2021.10.8)\n",
      "Requirement already satisfied: urllib3<1.27,>=1.21.1 in c:\\programdata\\anaconda3\\lib\\site-packages (from requests<3,>=2.11.1->tweepy) (1.26.7)\n",
      "Requirement already satisfied: oauthlib>=3.0.0 in c:\\programdata\\anaconda3\\lib\\site-packages (from requests-oauthlib<2,>=1.0.0->tweepy) (3.1.1)\n",
      "Installing collected packages: tweepy\n",
      "Successfully installed tweepy-4.1.0\n"
     ]
    }
   ],
   "source": [
    "#!pip install tweepy"
   ]
  },
  {
   "cell_type": "code",
   "execution_count": 1,
   "id": "e133b22a",
   "metadata": {},
   "outputs": [],
   "source": [
    "# 패키지 설치 확인\n",
    "import tweepy #ModuleNotFoundError: No module named 'tweepy'"
   ]
  },
  {
   "cell_type": "code",
   "execution_count": 2,
   "id": "9415829a",
   "metadata": {},
   "outputs": [],
   "source": [
    "# 발급 완료된 키를 {your_key} 대신 입력합니다.\n",
    "CONSUMER_KEY = \"GyhYUuPz1n7G8xJinc6oS669Q\"\n",
    "CONSUMER_SECRET = \"zYUmczSjM9r4yjUT6TKOFVNoAvjn84uZ8p2FtJGPYeTpAL83RB\"\n",
    "ACCESS_TOKEN_KEY = \"1449194998998593543-f5yvwnxfwwAQj4YN35Ubgr1nJnUpk2\"\n",
    "ACCESS_TOKEN_SECRET = \"iMbxkqQfnBkbrzKbPVbtT3peJpsWmxIS2UBnF3LbRKgSM\""
   ]
  },
  {
   "cell_type": "code",
   "execution_count": 3,
   "id": "c100b41d",
   "metadata": {},
   "outputs": [],
   "source": [
    "# 개인정보 인증을 요청하는 Handler입니다.\n",
    "auth = tweepy.OAuthHandler(CONSUMER_KEY, CONSUMER_SECRET)"
   ]
  },
  {
   "cell_type": "code",
   "execution_count": 4,
   "id": "eab84c81",
   "metadata": {},
   "outputs": [],
   "source": [
    "# 인증 요청을 수행합니다.\n",
    "auth.set_access_token(ACCESS_TOKEN_KEY, ACCESS_TOKEN_SECRET)"
   ]
  },
  {
   "cell_type": "code",
   "execution_count": 5,
   "id": "64f1aa43",
   "metadata": {},
   "outputs": [],
   "source": [
    "# twitter API를 사용하기 위한 준비입니다.\n",
    "api = tweepy.API(auth)"
   ]
  },
  {
   "cell_type": "code",
   "execution_count": 7,
   "id": "ea63cb3a",
   "metadata": {
    "scrolled": true
   },
   "outputs": [
    {
     "name": "stdout",
     "output_type": "stream",
     "text": [
      "그럼, \"라그나로크\"를 일으키는 이 힘으로——\n",
      "네가 비웃었던 파멸자의 힘으로 이 세상의 약자들을 지켜내겠다——\n",
      "모두를 제물로 바치는 의식이 진정 신의 뜻이라면——\n",
      "그럼, 나는 이 곳에서—— 신에게 선전포고를 하겠다.\n",
      "[]\n",
      "[]\n",
      "2021-10-24 01:44:24+00:00\n",
      "로드의 순수한 혈통이 아니라면 라그나로크를 사용하지 못하는 것은 당연하겠지/자동\n",
      "[]\n",
      "[]\n",
      "2021-10-23 23:23:48+00:00\n",
      "우린 라그나로크의 굴레에서 벗어났지. 아스가르드인들은 처음으로 자신들이 운명의 굴레에서 벗어나서 자유가 됐다고 믿고있고.\n",
      "[]\n",
      "[]\n",
      "2021-10-23 22:16:51+00:00\n",
      ".... ..... 어찌 됐든... 나는 이제 탈락자고, 당신은 살아남아있으니까... ... 살아남기를 바랄게. 벌써 여기까지 와버렸잖아. 라그나로크 게임의 본분을 다 하라구. 다들 자기 몸은 지킬 줄 알걸.\n",
      "[]\n",
      "[]\n",
      "2021-10-23 20:49:08+00:00\n",
      "그래... 도적인데 불사신이라 탱커여서 가장 많이 뚫렸었지... 왜 라그나로크에서도 싹 벗긴거야ㅋㅋㅋㄱㅋ 우리 반... 옷 좀 여미고다니렴... 가을이라 춥다... https://t.co/h99F5x6b3D\n",
      "[]\n",
      "[]\n",
      "2021-10-23 18:51:40+00:00\n",
      "유명인이라서 좋겠다~!!그런 사람이 누추한 라그나로크까지 친히 오셨대?\n",
      "[]\n",
      "[]\n",
      "2021-10-23 16:48:49+00:00\n",
      "이제 한동안 이런 유흥거리 즐길 겨를도 없을게다. 다들 라그나로크를 준비해라.\n",
      "[]\n",
      "[]\n",
      "2021-10-23 14:40:37+00:00\n",
      "@async3619 사용표시용\n",
      "라그나로크 펜효과 쓰고나면 자기한테 1000댐에 이번턴 전투대미지 절감되서 표시햇어요\n",
      "[{'screen_name': 'async3619', 'name': '소피아', 'id': 1390297091054788611, 'id_str': '1390297091054788611', 'indices': [0, 10]}]\n",
      "[]\n",
      "2021-10-23 13:53:38+00:00\n",
      "RT @atomicBTC: [투자에 관한 story]\n",
      "\n",
      "요새 투자자/비투자자간의 AT필드같은 것이 형성되어 있어 마침 해당글을 올립니다.\n",
      "\n",
      "먼저 저의 간략한 소개로 시작합니다.\n",
      "\n",
      "저는 온라인게임(라그나로크)라는 게임을 중/고/대학교때까지 지속하였습니…\n",
      "[{'screen_name': 'atomicBTC', 'name': 'ATOMIC⚡️₿ITCOIN', 'id': 114938640, 'id_str': '114938640', 'indices': [3, 13]}]\n",
      "[]\n",
      "2021-10-23 13:02:11+00:00\n",
      "역시 솔로가 더 잘 맞았구나, 당신은... 그래서 화려하게 타오르기 위해서, 다른 사람을 짓밟았어? 그.. 무대에서 있었던 사고. (눈을 느릿하게 깜빡였다.) 맞다면.. 어쩌면 드라마틱한 서사의 클라이막스였을지도. 라그나로크로 추락하는 별이라니.. -\n",
      "[]\n",
      "[]\n",
      "2021-10-23 12:48:43+00:00\n",
      "라그나로크 온라인\n",
      "\n",
      "마비-파판14로 동인 대이동이 있었던것처럼 마비 이전에는 라그가 있었다. 인생게임\n",
      "사실 내 폰에 라그나로크 오리진 깔려있다. 그때 그시절을 그대로~ 이런 캐치프레이즈를 몇번봤는지 모르겠다… https://t.co/c9vH0pkdTQ\n",
      "[]\n",
      "[]\n",
      "2021-10-23 12:35:50+00:00\n",
      "RT @lolopam_: 라그나로크 대본집 읽다가 로키창작연극씬에서ㅋㅋㅋㅋㅋㅠㅜ 로키가 토르 대사쓴것 좀 보셈 실제로는 토르가 로키한테 저런말 일절 안했다는게 진짜 개웃김 https://t.co/jlLnEORxIm\n",
      "[{'screen_name': 'lolopam_', 'name': '로팜', 'id': 1415369281739497472, 'id_str': '1415369281739497472', 'indices': [3, 12]}]\n",
      "[]\n",
      "2021-10-23 11:28:35+00:00\n",
      "@Goldrabbit_kr 아 다크스토커즈 레이레이 혹은 라그나로크 무낙인줄 알앗는데 아니셧구나 https://t.co/Lw4AOuWYes\n",
      "[{'screen_name': 'Goldrabbit_kr', 'name': '골드래빗_러비', 'id': 1409621568557260801, 'id_str': '1409621568557260801', 'indices': [0, 14]}]\n",
      "[]\n",
      "2021-10-23 11:26:37+00:00\n",
      "로드의 순수한 혈통이 아니라면 라그나로크를 사용하지 못하는 것은 당연하겠지/자동\n",
      "[]\n",
      "[]\n",
      "2021-10-23 11:23:48+00:00\n"
     ]
    }
   ],
   "source": [
    "# twitter API를 사용하여 ‘손흥민’이 포함된 트윗들을 크롤링한 뒤, entities 에서 ‘user_mentions’, ‘hashtags’를 추출합니다.\n",
    "keyword = \"라그나로크\"\n",
    "# tweets = api.search(keyword) #Old version: replaced to search_tweets()\n",
    "tweets = api.search_tweets(keyword)\n",
    "for tweet in tweets:\n",
    "    print(tweet.text)\n",
    "    print(tweet.entities['user_mentions'])\n",
    "    print(tweet.entities['hashtags'])\n",
    "    print(tweet.created_at)"
   ]
  },
  {
   "cell_type": "code",
   "execution_count": null,
   "id": "ce6322c9",
   "metadata": {},
   "outputs": [],
   "source": []
  }
 ],
 "metadata": {
  "kernelspec": {
   "display_name": "Python 3",
   "language": "python",
   "name": "python3"
  },
  "language_info": {
   "codemirror_mode": {
    "name": "ipython",
    "version": 3
   },
   "file_extension": ".py",
   "mimetype": "text/x-python",
   "name": "python",
   "nbconvert_exporter": "python",
   "pygments_lexer": "ipython3",
   "version": "3.7.11"
  }
 },
 "nbformat": 4,
 "nbformat_minor": 5
}
